{
 "cells": [
  {
   "cell_type": "code",
   "execution_count": 1,
   "metadata": {
    "scrolled": false
   },
   "outputs": [],
   "source": [
    "import numbers\n",
    "\n",
    "import pandas as pd\n",
    "import numpy as np\n",
    "\n",
    "import matplotlib.pyplot as plt\n",
    "import seaborn as sns\n",
    "%matplotlib inline"
   ]
  },
  {
   "cell_type": "code",
   "execution_count": 2,
   "metadata": {},
   "outputs": [
    {
     "data": {
      "text/html": [
       "<div>\n",
       "<style scoped>\n",
       "    .dataframe tbody tr th:only-of-type {\n",
       "        vertical-align: middle;\n",
       "    }\n",
       "\n",
       "    .dataframe tbody tr th {\n",
       "        vertical-align: top;\n",
       "    }\n",
       "\n",
       "    .dataframe thead th {\n",
       "        text-align: right;\n",
       "    }\n",
       "</style>\n",
       "<table border=\"1\" class=\"dataframe\">\n",
       "  <thead>\n",
       "    <tr style=\"text-align: right;\">\n",
       "      <th></th>\n",
       "      <th>Authors</th>\n",
       "      <th>Author(s) ID</th>\n",
       "      <th>Title</th>\n",
       "      <th>Year</th>\n",
       "      <th>Source title</th>\n",
       "      <th>Volume</th>\n",
       "      <th>Issue</th>\n",
       "      <th>Art. No.</th>\n",
       "      <th>Page start</th>\n",
       "      <th>Page end</th>\n",
       "      <th>...</th>\n",
       "      <th>ISBN</th>\n",
       "      <th>CODEN</th>\n",
       "      <th>PubMed ID</th>\n",
       "      <th>Language of Original Document</th>\n",
       "      <th>Abbreviated Source Title</th>\n",
       "      <th>Document Type</th>\n",
       "      <th>Publication Stage</th>\n",
       "      <th>Access Type</th>\n",
       "      <th>Source</th>\n",
       "      <th>EID</th>\n",
       "    </tr>\n",
       "  </thead>\n",
       "  <tbody>\n",
       "    <tr>\n",
       "      <th>0</th>\n",
       "      <td>Vithya G., Naren J., Vikas Reddy K., Raghunand...</td>\n",
       "      <td>49362399800;55671230800;57214314483;57214315455;</td>\n",
       "      <td>A study on web intelligence for the internet o...</td>\n",
       "      <td>2020</td>\n",
       "      <td>International Journal of Psychosocial Rehabili...</td>\n",
       "      <td>23</td>\n",
       "      <td>1</td>\n",
       "      <td>NaN</td>\n",
       "      <td>394</td>\n",
       "      <td>399</td>\n",
       "      <td>...</td>\n",
       "      <td>NaN</td>\n",
       "      <td>NaN</td>\n",
       "      <td>NaN</td>\n",
       "      <td>English</td>\n",
       "      <td>Int. J. Psychosoc. Rehab.</td>\n",
       "      <td>Article</td>\n",
       "      <td>Final</td>\n",
       "      <td>NaN</td>\n",
       "      <td>Scopus</td>\n",
       "      <td>2-s2.0-85078623770</td>\n",
       "    </tr>\n",
       "    <tr>\n",
       "      <th>1</th>\n",
       "      <td>Lin S., Gao J., Zhang S., He X., Sheng Y., Che...</td>\n",
       "      <td>57191409679;57209472530;57209473974;5643781620...</td>\n",
       "      <td>A continuous learning method for recognizing n...</td>\n",
       "      <td>2020</td>\n",
       "      <td>World Wide Web</td>\n",
       "      <td>NaN</td>\n",
       "      <td>NaN</td>\n",
       "      <td>NaN</td>\n",
       "      <td>NaN</td>\n",
       "      <td>NaN</td>\n",
       "      <td>...</td>\n",
       "      <td>NaN</td>\n",
       "      <td>NaN</td>\n",
       "      <td>NaN</td>\n",
       "      <td>English</td>\n",
       "      <td>World Wide Web</td>\n",
       "      <td>Article</td>\n",
       "      <td>Article in Press</td>\n",
       "      <td>NaN</td>\n",
       "      <td>Scopus</td>\n",
       "      <td>2-s2.0-85079717044</td>\n",
       "    </tr>\n",
       "    <tr>\n",
       "      <th>2</th>\n",
       "      <td>[No author name available]</td>\n",
       "      <td>[No author id available]</td>\n",
       "      <td>Proceedings - 2019 IEEE/WIC/ACM International ...</td>\n",
       "      <td>2019</td>\n",
       "      <td>Proceedings - 2019 IEEE/WIC/ACM International ...</td>\n",
       "      <td>NaN</td>\n",
       "      <td>NaN</td>\n",
       "      <td>NaN</td>\n",
       "      <td>NaN</td>\n",
       "      <td>NaN</td>\n",
       "      <td>...</td>\n",
       "      <td>9781450369343</td>\n",
       "      <td>NaN</td>\n",
       "      <td>NaN</td>\n",
       "      <td>English</td>\n",
       "      <td>Proc. - IEEE/WIC/ACM Int. Conf. Web Intell., WI</td>\n",
       "      <td>Conference Review</td>\n",
       "      <td>Final</td>\n",
       "      <td>NaN</td>\n",
       "      <td>Scopus</td>\n",
       "      <td>2-s2.0-85074789229</td>\n",
       "    </tr>\n",
       "    <tr>\n",
       "      <th>3</th>\n",
       "      <td>[No author name available]</td>\n",
       "      <td>[No author id available]</td>\n",
       "      <td>Proceedings - 2019 IEEE/WIC/ACM International ...</td>\n",
       "      <td>2019</td>\n",
       "      <td>Proceedings - 2019 IEEE/WIC/ACM International ...</td>\n",
       "      <td>NaN</td>\n",
       "      <td>NaN</td>\n",
       "      <td>NaN</td>\n",
       "      <td>NaN</td>\n",
       "      <td>NaN</td>\n",
       "      <td>...</td>\n",
       "      <td>9781450369886</td>\n",
       "      <td>NaN</td>\n",
       "      <td>NaN</td>\n",
       "      <td>English</td>\n",
       "      <td>Proc. - IEEE/WIC/ACM Int. Conf. Web Intell. Wo...</td>\n",
       "      <td>Conference Review</td>\n",
       "      <td>Final</td>\n",
       "      <td>NaN</td>\n",
       "      <td>Scopus</td>\n",
       "      <td>2-s2.0-85074320724</td>\n",
       "    </tr>\n",
       "    <tr>\n",
       "      <th>4</th>\n",
       "      <td>Liu H., Ning H., Mu Q., Zheng Y., Zeng J., Yan...</td>\n",
       "      <td>56872078600;9232973200;57187872300;57187332300...</td>\n",
       "      <td>A review of the smart world</td>\n",
       "      <td>2019</td>\n",
       "      <td>Future Generation Computer Systems</td>\n",
       "      <td>96</td>\n",
       "      <td>NaN</td>\n",
       "      <td>NaN</td>\n",
       "      <td>678</td>\n",
       "      <td>691</td>\n",
       "      <td>...</td>\n",
       "      <td>NaN</td>\n",
       "      <td>FGCSE</td>\n",
       "      <td>NaN</td>\n",
       "      <td>English</td>\n",
       "      <td>Future Gener Comput Syst</td>\n",
       "      <td>Article</td>\n",
       "      <td>Final</td>\n",
       "      <td>NaN</td>\n",
       "      <td>Scopus</td>\n",
       "      <td>2-s2.0-85029474758</td>\n",
       "    </tr>\n",
       "  </tbody>\n",
       "</table>\n",
       "<p>5 rows × 33 columns</p>\n",
       "</div>"
      ],
      "text/plain": [
       "                                             Authors  \\\n",
       "0  Vithya G., Naren J., Vikas Reddy K., Raghunand...   \n",
       "1  Lin S., Gao J., Zhang S., He X., Sheng Y., Che...   \n",
       "2                         [No author name available]   \n",
       "3                         [No author name available]   \n",
       "4  Liu H., Ning H., Mu Q., Zheng Y., Zeng J., Yan...   \n",
       "\n",
       "                                        Author(s) ID  \\\n",
       "0   49362399800;55671230800;57214314483;57214315455;   \n",
       "1  57191409679;57209472530;57209473974;5643781620...   \n",
       "2                           [No author id available]   \n",
       "3                           [No author id available]   \n",
       "4  56872078600;9232973200;57187872300;57187332300...   \n",
       "\n",
       "                                               Title  Year  \\\n",
       "0  A study on web intelligence for the internet o...  2020   \n",
       "1  A continuous learning method for recognizing n...  2020   \n",
       "2  Proceedings - 2019 IEEE/WIC/ACM International ...  2019   \n",
       "3  Proceedings - 2019 IEEE/WIC/ACM International ...  2019   \n",
       "4                        A review of the smart world  2019   \n",
       "\n",
       "                                        Source title Volume Issue Art. No.  \\\n",
       "0  International Journal of Psychosocial Rehabili...     23     1      NaN   \n",
       "1                                     World Wide Web    NaN   NaN      NaN   \n",
       "2  Proceedings - 2019 IEEE/WIC/ACM International ...    NaN   NaN      NaN   \n",
       "3  Proceedings - 2019 IEEE/WIC/ACM International ...    NaN   NaN      NaN   \n",
       "4                 Future Generation Computer Systems     96   NaN      NaN   \n",
       "\n",
       "  Page start Page end  ...           ISBN  CODEN PubMed ID  \\\n",
       "0        394      399  ...            NaN    NaN       NaN   \n",
       "1        NaN      NaN  ...            NaN    NaN       NaN   \n",
       "2        NaN      NaN  ...  9781450369343    NaN       NaN   \n",
       "3        NaN      NaN  ...  9781450369886    NaN       NaN   \n",
       "4        678      691  ...            NaN  FGCSE       NaN   \n",
       "\n",
       "  Language of Original Document  \\\n",
       "0                       English   \n",
       "1                       English   \n",
       "2                       English   \n",
       "3                       English   \n",
       "4                       English   \n",
       "\n",
       "                            Abbreviated Source Title      Document Type  \\\n",
       "0                          Int. J. Psychosoc. Rehab.            Article   \n",
       "1                                     World Wide Web            Article   \n",
       "2    Proc. - IEEE/WIC/ACM Int. Conf. Web Intell., WI  Conference Review   \n",
       "3  Proc. - IEEE/WIC/ACM Int. Conf. Web Intell. Wo...  Conference Review   \n",
       "4                           Future Gener Comput Syst            Article   \n",
       "\n",
       "  Publication Stage Access Type  Source                 EID  \n",
       "0             Final         NaN  Scopus  2-s2.0-85078623770  \n",
       "1  Article in Press         NaN  Scopus  2-s2.0-85079717044  \n",
       "2             Final         NaN  Scopus  2-s2.0-85074789229  \n",
       "3             Final         NaN  Scopus  2-s2.0-85074320724  \n",
       "4             Final         NaN  Scopus  2-s2.0-85029474758  \n",
       "\n",
       "[5 rows x 33 columns]"
      ]
     },
     "execution_count": 2,
     "metadata": {},
     "output_type": "execute_result"
    }
   ],
   "source": [
    "data = pd.read_excel('data.xlsx', sheet_name = 'Lab 1 - Web Intelligence Public')\n",
    "data.head(5)"
   ]
  },
  {
   "cell_type": "code",
   "execution_count": 3,
   "metadata": {
    "scrolled": true
   },
   "outputs": [
    {
     "data": {
      "text/plain": [
       "array([2006, 2005, 2004, 2003, 2002, 2001, 2000], dtype=int64)"
      ]
     },
     "execution_count": 3,
     "metadata": {},
     "output_type": "execute_result"
    }
   ],
   "source": [
    "data = data[data['Year'].between(2000 ,2006 ,inclusive = True)]\n",
    "data['Year'].unique()"
   ]
  },
  {
   "cell_type": "code",
   "execution_count": 4,
   "metadata": {
    "scrolled": true
   },
   "outputs": [
    {
     "data": {
      "text/plain": [
       "Authors                          113\n",
       "Author(s) ID                     112\n",
       "Title                            157\n",
       "Year                               7\n",
       "Source title                      73\n",
       "Volume                            63\n",
       "Issue                             20\n",
       "Art. No.                          25\n",
       "Page start                       120\n",
       "Page end                         123\n",
       "Page count                        16\n",
       "Cited by                          36\n",
       "DOI                               69\n",
       "Link                             160\n",
       "Affiliations                     127\n",
       "Authors with affiliations        133\n",
       "Abstract                         149\n",
       "Author Keywords                   54\n",
       "Index Keywords                   134\n",
       "Correspondence Address           111\n",
       "Editors                           28\n",
       "Publisher                          8\n",
       "ISSN                              44\n",
       "ISBN                              50\n",
       "CODEN                             23\n",
       "PubMed ID                          0\n",
       "Language of Original Document      2\n",
       "Abbreviated Source Title          72\n",
       "Document Type                      6\n",
       "Publication Stage                  1\n",
       "Access Type                        0\n",
       "Source                             1\n",
       "EID                              160\n",
       "dtype: int64"
      ]
     },
     "execution_count": 4,
     "metadata": {},
     "output_type": "execute_result"
    }
   ],
   "source": [
    "data.nunique()"
   ]
  },
  {
   "cell_type": "code",
   "execution_count": 5,
   "metadata": {
    "collapsed": true
   },
   "outputs": [
    {
     "data": {
      "text/html": [
       "<div>\n",
       "<style scoped>\n",
       "    .dataframe tbody tr th:only-of-type {\n",
       "        vertical-align: middle;\n",
       "    }\n",
       "\n",
       "    .dataframe tbody tr th {\n",
       "        vertical-align: top;\n",
       "    }\n",
       "\n",
       "    .dataframe thead th {\n",
       "        text-align: right;\n",
       "    }\n",
       "</style>\n",
       "<table border=\"1\" class=\"dataframe\">\n",
       "  <thead>\n",
       "    <tr style=\"text-align: right;\">\n",
       "      <th></th>\n",
       "      <th>Authors</th>\n",
       "      <th>Title</th>\n",
       "      <th>Year</th>\n",
       "      <th>Page start</th>\n",
       "      <th>Page end</th>\n",
       "      <th>Page count</th>\n",
       "      <th>Abstract</th>\n",
       "      <th>Author Keywords</th>\n",
       "      <th>Index Keywords</th>\n",
       "      <th>Correspondence Address</th>\n",
       "      <th>Language of Original Document</th>\n",
       "      <th>Document Type</th>\n",
       "    </tr>\n",
       "  </thead>\n",
       "  <tbody>\n",
       "    <tr>\n",
       "      <th>644</th>\n",
       "      <td>Kacprzyk J.</td>\n",
       "      <td>Web intelligence, business intelligence and de...</td>\n",
       "      <td>2006</td>\n",
       "      <td>3</td>\n",
       "      <td>NaN</td>\n",
       "      <td>NaN</td>\n",
       "      <td>We present first some general remarks on chall...</td>\n",
       "      <td>NaN</td>\n",
       "      <td>Administrative data processing; Artificial int...</td>\n",
       "      <td>Kacprzyk, J.; Systems Research Institute, Poli...</td>\n",
       "      <td>English</td>\n",
       "      <td>Conference Paper</td>\n",
       "    </tr>\n",
       "    <tr>\n",
       "      <th>645</th>\n",
       "      <td>Zuccala A., Thelwall M.</td>\n",
       "      <td>LexiURL Web link analysis for digital libraries</td>\n",
       "      <td>2006</td>\n",
       "      <td>371</td>\n",
       "      <td>NaN</td>\n",
       "      <td>NaN</td>\n",
       "      <td>The purpose of this demonstration is to show h...</td>\n",
       "      <td>Digital libraries; Web link analysis</td>\n",
       "      <td>Artificial intelligence; Digital libraries; Te...</td>\n",
       "      <td>Zuccala, A.; Statistical Cybermetrics Research...</td>\n",
       "      <td>English</td>\n",
       "      <td>Conference Paper</td>\n",
       "    </tr>\n",
       "    <tr>\n",
       "      <th>646</th>\n",
       "      <td>[No author name available]</td>\n",
       "      <td>Proceedings - 30th Annual International Comput...</td>\n",
       "      <td>2006</td>\n",
       "      <td>NaN</td>\n",
       "      <td>NaN</td>\n",
       "      <td>943.0</td>\n",
       "      <td>The proceeding contains 138 papers. The topics...</td>\n",
       "      <td>NaN</td>\n",
       "      <td>Algorithms; Data mining; Data structures; Faul...</td>\n",
       "      <td>NaN</td>\n",
       "      <td>English</td>\n",
       "      <td>Conference Review</td>\n",
       "    </tr>\n",
       "  </tbody>\n",
       "</table>\n",
       "</div>"
      ],
      "text/plain": [
       "                        Authors  \\\n",
       "644                 Kacprzyk J.   \n",
       "645     Zuccala A., Thelwall M.   \n",
       "646  [No author name available]   \n",
       "\n",
       "                                                 Title  Year Page start  \\\n",
       "644  Web intelligence, business intelligence and de...  2006          3   \n",
       "645    LexiURL Web link analysis for digital libraries  2006        371   \n",
       "646  Proceedings - 30th Annual International Comput...  2006        NaN   \n",
       "\n",
       "    Page end  Page count                                           Abstract  \\\n",
       "644      NaN         NaN  We present first some general remarks on chall...   \n",
       "645      NaN         NaN  The purpose of this demonstration is to show h...   \n",
       "646      NaN       943.0  The proceeding contains 138 papers. The topics...   \n",
       "\n",
       "                          Author Keywords  \\\n",
       "644                                   NaN   \n",
       "645  Digital libraries; Web link analysis   \n",
       "646                                   NaN   \n",
       "\n",
       "                                        Index Keywords  \\\n",
       "644  Administrative data processing; Artificial int...   \n",
       "645  Artificial intelligence; Digital libraries; Te...   \n",
       "646  Algorithms; Data mining; Data structures; Faul...   \n",
       "\n",
       "                                Correspondence Address  \\\n",
       "644  Kacprzyk, J.; Systems Research Institute, Poli...   \n",
       "645  Zuccala, A.; Statistical Cybermetrics Research...   \n",
       "646                                                NaN   \n",
       "\n",
       "    Language of Original Document      Document Type  \n",
       "644                       English   Conference Paper  \n",
       "645                       English   Conference Paper  \n",
       "646                       English  Conference Review  "
      ]
     },
     "execution_count": 5,
     "metadata": {},
     "output_type": "execute_result"
    }
   ],
   "source": [
    "data = data[['Authors', 'Title', 'Year', 'Page start', 'Page end', 'Page count', 'Abstract',\n",
    "       'Author Keywords', 'Index Keywords', 'Correspondence Address',\n",
    "       'Language of Original Document',\n",
    "       'Document Type']]\n",
    "data.head(3)"
   ]
  },
  {
   "cell_type": "code",
   "execution_count": 6,
   "metadata": {},
   "outputs": [
    {
     "name": "stdout",
     "output_type": "stream",
     "text": [
      "<class 'pandas.core.frame.DataFrame'>\n",
      "Int64Index: 160 entries, 644 to 803\n",
      "Data columns (total 12 columns):\n",
      " #   Column                         Non-Null Count  Dtype  \n",
      "---  ------                         --------------  -----  \n",
      " 0   Authors                        160 non-null    object \n",
      " 1   Title                          160 non-null    object \n",
      " 2   Year                           160 non-null    int64  \n",
      " 3   Page start                     142 non-null    object \n",
      " 4   Page end                       130 non-null    object \n",
      " 5   Page count                     18 non-null     float64\n",
      " 6   Abstract                       160 non-null    object \n",
      " 7   Author Keywords                54 non-null     object \n",
      " 8   Index Keywords                 135 non-null    object \n",
      " 9   Correspondence Address         121 non-null    object \n",
      " 10  Language of Original Document  160 non-null    object \n",
      " 11  Document Type                  160 non-null    object \n",
      "dtypes: float64(1), int64(1), object(10)\n",
      "memory usage: 10.0+ KB\n"
     ]
    }
   ],
   "source": [
    "data.info()"
   ]
  },
  {
   "cell_type": "code",
   "execution_count": 7,
   "metadata": {},
   "outputs": [
    {
     "data": {
      "text/html": [
       "<div>\n",
       "<style scoped>\n",
       "    .dataframe tbody tr th:only-of-type {\n",
       "        vertical-align: middle;\n",
       "    }\n",
       "\n",
       "    .dataframe tbody tr th {\n",
       "        vertical-align: top;\n",
       "    }\n",
       "\n",
       "    .dataframe thead th {\n",
       "        text-align: right;\n",
       "    }\n",
       "</style>\n",
       "<table border=\"1\" class=\"dataframe\">\n",
       "  <thead>\n",
       "    <tr style=\"text-align: right;\">\n",
       "      <th></th>\n",
       "      <th>Year</th>\n",
       "      <th>Page count</th>\n",
       "    </tr>\n",
       "  </thead>\n",
       "  <tbody>\n",
       "    <tr>\n",
       "      <th>count</th>\n",
       "      <td>160.000000</td>\n",
       "      <td>18.000000</td>\n",
       "    </tr>\n",
       "    <tr>\n",
       "      <th>mean</th>\n",
       "      <td>2004.162500</td>\n",
       "      <td>722.833333</td>\n",
       "    </tr>\n",
       "    <tr>\n",
       "      <th>std</th>\n",
       "      <td>1.340644</td>\n",
       "      <td>417.235474</td>\n",
       "    </tr>\n",
       "    <tr>\n",
       "      <th>min</th>\n",
       "      <td>2000.000000</td>\n",
       "      <td>12.000000</td>\n",
       "    </tr>\n",
       "    <tr>\n",
       "      <th>25%</th>\n",
       "      <td>2003.000000</td>\n",
       "      <td>507.250000</td>\n",
       "    </tr>\n",
       "    <tr>\n",
       "      <th>50%</th>\n",
       "      <td>2004.000000</td>\n",
       "      <td>730.000000</td>\n",
       "    </tr>\n",
       "    <tr>\n",
       "      <th>75%</th>\n",
       "      <td>2005.000000</td>\n",
       "      <td>914.750000</td>\n",
       "    </tr>\n",
       "    <tr>\n",
       "      <th>max</th>\n",
       "      <td>2006.000000</td>\n",
       "      <td>1488.000000</td>\n",
       "    </tr>\n",
       "  </tbody>\n",
       "</table>\n",
       "</div>"
      ],
      "text/plain": [
       "              Year   Page count\n",
       "count   160.000000    18.000000\n",
       "mean   2004.162500   722.833333\n",
       "std       1.340644   417.235474\n",
       "min    2000.000000    12.000000\n",
       "25%    2003.000000   507.250000\n",
       "50%    2004.000000   730.000000\n",
       "75%    2005.000000   914.750000\n",
       "max    2006.000000  1488.000000"
      ]
     },
     "execution_count": 7,
     "metadata": {},
     "output_type": "execute_result"
    }
   ],
   "source": [
    "data.describe()"
   ]
  },
  {
   "cell_type": "code",
   "execution_count": 8,
   "metadata": {},
   "outputs": [],
   "source": [
    "def unify_pages(cols):\n",
    "    start = cols[0]\n",
    "    end = cols[1]\n",
    "    total = cols[2]\n",
    "    if not pd.isnull(total) and isinstance(total, numbers.Number):\n",
    "        return total\n",
    "    elif not pd.isnull(start) and not pd.isnull(end) and isinstance(start, numbers.Number) and isinstance(end, numbers.Number):\n",
    "        return end - start\n",
    "    else:\n",
    "        return None"
   ]
  },
  {
   "cell_type": "code",
   "execution_count": 9,
   "metadata": {},
   "outputs": [
    {
     "data": {
      "text/plain": [
       "<matplotlib.axes._subplots.AxesSubplot at 0x11d3d958>"
      ]
     },
     "execution_count": 9,
     "metadata": {},
     "output_type": "execute_result"
    },
    {
     "data": {
      "image/png": "[encoded data removed]",
      "text/plain": [
       "<Figure size 864x432 with 1 Axes>"
      ]
     },
     "metadata": {
      "needs_background": "light"
     },
     "output_type": "display_data"
    }
   ],
   "source": [
    "page_amounts = data[['Page start', 'Page end', 'Page count']].apply(unify_pages,axis=1).dropna()\n",
    "page_amounts.hist(color='purple',bins=20,figsize=(12,6))"
   ]
  },
  {
   "cell_type": "code",
   "execution_count": 10,
   "metadata": {},
   "outputs": [
    {
     "data": {
      "text/plain": [
       "<matplotlib.axes._subplots.AxesSubplot at 0x12d90658>"
      ]
     },
     "execution_count": 10,
     "metadata": {},
     "output_type": "execute_result"
    },
    {
     "data": {
      "image/png": "[encoded data removed]",
      "text/plain": [
       "<Figure size 864x432 with 1 Axes>"
      ]
     },
     "metadata": {
      "needs_background": "light"
     },
     "output_type": "display_data"
    }
   ],
   "source": [
    "authors = data['Authors'].apply(lambda x: len(x.split(',')))\n",
    "\n",
    "fig_dims = (12, 6)\n",
    "fig, ax = plt.subplots(figsize=fig_dims)\n",
    "sns.countplot(authors,ax=ax)"
   ]
  },
  {
   "cell_type": "code",
   "execution_count": 11,
   "metadata": {},
   "outputs": [
    {
     "data": {
      "text/plain": [
       "<matplotlib.axes._subplots.AxesSubplot at 0x12dd05b0>"
      ]
     },
     "execution_count": 11,
     "metadata": {},
     "output_type": "execute_result"
    },
    {
     "data": {
      "image/png": "[encoded data removed]",
      "text/plain": [
       "<Figure size 864x432 with 1 Axes>"
      ]
     },
     "metadata": {
      "needs_background": "light"
     },
     "output_type": "display_data"
    }
   ],
   "source": [
    "years = data.groupby('Year').count()['Authors']\n",
    "\n",
    "fig_dims = (12, 6)\n",
    "fig, ax = plt.subplots(figsize=fig_dims)\n",
    "sns.countplot(x='Year',data=data,ax=ax)"
   ]
  },
  {
   "cell_type": "code",
   "execution_count": 12,
   "metadata": {},
   "outputs": [
    {
     "data": {
      "text/plain": [
       "<matplotlib.axes._subplots.AxesSubplot at 0x131c24c0>"
      ]
     },
     "execution_count": 12,
     "metadata": {},
     "output_type": "execute_result"
    },
    {
     "data": {
      "image/png": "[encoded data removed]",
      "text/plain": [
       "<Figure size 432x432 with 1 Axes>"
      ]
     },
     "metadata": {
      "needs_background": "light"
     },
     "output_type": "display_data"
    }
   ],
   "source": [
    "fig_dims = (6, 6)\n",
    "fig, ax = plt.subplots(figsize=fig_dims)\n",
    "sns.countplot(x='Language of Original Document',data=data,ax=ax)"
   ]
  },
  {
   "cell_type": "code",
   "execution_count": 13,
   "metadata": {},
   "outputs": [
    {
     "data": {
      "text/plain": [
       "<matplotlib.axes._subplots.AxesSubplot at 0x131f2c40>"
      ]
     },
     "execution_count": 13,
     "metadata": {},
     "output_type": "execute_result"
    },
    {
     "data": {
      "image/png": "[encoded data removed]",
      "text/plain": [
       "<Figure size 864x432 with 1 Axes>"
      ]
     },
     "metadata": {
      "needs_background": "light"
     },
     "output_type": "display_data"
    }
   ],
   "source": [
    "fig_dims = (12, 6)\n",
    "fig, ax = plt.subplots(figsize=fig_dims)\n",
    "sns.countplot(data=data,x='Document Type',ax=ax)"
   ]
  },
  {
   "cell_type": "code",
   "execution_count": 14,
   "metadata": {},
   "outputs": [],
   "source": [
    "data.drop(['Page start', 'Page end', 'Page count'], axis = 1, inplace=True) "
   ]
  },
  {
   "cell_type": "code",
   "execution_count": 15,
   "metadata": {},
   "outputs": [],
   "source": [
    "import chart_studio.plotly as py\n",
    "import plotly.graph_objs as go \n",
    "from plotly.offline import download_plotlyjs, init_notebook_mode, plot, iplot"
   ]
  },
  {
   "cell_type": "code",
   "execution_count": 16,
   "metadata": {},
   "outputs": [],
   "source": [
    "import pycountry\n",
    "\n",
    "def get_country(adress):\n",
    "    for country in list(pycountry.countries):\n",
    "        if country.name in adress:\n",
    "            return [country.name,country.alpha_3]\n",
    "    return None\n",
    "        \n",
    "    \n",
    "\n",
    "country_list = [item.name for item in list(pycountry.countries)]\n",
    "countries = data['Correspondence Address'].dropna().apply(lambda x: get_country(x))\n",
    "country_count = countries.value_counts()\n",
    "countries_names = [x[0] for x in country_count.index]\n",
    "countries_codes = [x[1] for x in country_count.index]\n",
    "countries_counts = list(country_count.values)"
   ]
  },
  {
   "cell_type": "code",
   "execution_count": 48,
   "metadata": {},
   "outputs": [],
   "source": [
    "map_data = dict(\n",
    "        type = 'choropleth',\n",
    "        locations = countries_codes,\n",
    "        z = countries_counts,\n",
    "        text = countries_names,\n",
    "        colorscale = 'viridis_r',\n",
    "        colorbar = {'title' : 'No. of authors from country'},\n",
    "      ) \n",
    "\n",
    "layout = dict(\n",
    "    title = 'Origin countries of articles authors',\n",
    "    geo = dict(\n",
    "        showframe = False,\n",
    "    )\n",
    ")"
   ]
  },
  {
   "cell_type": "code",
   "execution_count": 49,
   "metadata": {},
   "outputs": [
    {
     "data": {
      "application/vnd.plotly.v1+json": {
       "config": {
        "linkText": "Export to plot.ly",
        "plotlyServerURL": "https://plot.ly",
        "showLink": false
       },
       "data": [
        {
         "colorbar": {
          "title": {
           "text": "No. of authors from country"
          }
         },
         "colorscale": [
          [
           0,
           "#fde725"
          ],
          [
           0.1111111111111111,
           "#b5de2b"
          ],
          [
           0.2222222222222222,
           "#6ece58"
          ],
          [
           0.3333333333333333,
           "#35b779"
          ],
          [
           0.4444444444444444,
           "#1f9e89"
          ],
          [
           0.5555555555555556,
           "#26828e"
          ],
          [
           0.6666666666666666,
           "#31688e"
          ],
          [
           0.7777777777777778,
           "#3e4989"
          ],
          [
           0.8888888888888888,
           "#482878"
          ],
          [
           1,
           "#440154"
          ]
         ],
         "locations": [
          "JPN",
          "USA",
          "CHN",
          "GBR",
          "AUS",
          "CAN",
          "HKG",
          "ESP",
          "GEO",
          "AUT",
          "RUS",
          "POL",
          "ITA",
          "IND",
          "SGP",
          "SRB",
          "MEX",
          "BRA"
         ],
         "text": [
          "Japan",
          "United States",
          "China",
          "United Kingdom",
          "Australia",
          "Canada",
          "Hong Kong",
          "Spain",
          "Georgia",
          "Austria",
          "Russian Federation",
          "Poland",
          "Italy",
          "India",
          "Singapore",
          "Serbia",
          "Mexico",
          "Brazil"
         ],
         "type": "choropleth",
         "z": [
          19,
          16,
          14,
          12,
          9,
          8,
          6,
          6,
          6,
          3,
          3,
          2,
          2,
          2,
          2,
          2,
          1,
          1
         ]
        }
       ],
       "layout": {
        "geo": {
         "showframe": false
        },
        "template": {
         "data": {
          "bar": [
           {
            "error_x": {
             "color": "#2a3f5f"
            },
            "error_y": {
             "color": "#2a3f5f"
            },
            "marker": {
             "line": {
              "color": "#E5ECF6",
              "width": 0.5
             }
            },
            "type": "bar"
           }
          ],
          "barpolar": [
           {
            "marker": {
             "line": {
              "color": "#E5ECF6",
              "width": 0.5
             }
            },
            "type": "barpolar"
           }
          ],
          "carpet": [
           {
            "aaxis": {
             "endlinecolor": "#2a3f5f",
             "gridcolor": "white",
             "linecolor": "white",
             "minorgridcolor": "white",
             "startlinecolor": "#2a3f5f"
            },
            "baxis": {
             "endlinecolor": "#2a3f5f",
             "gridcolor": "white",
             "linecolor": "white",
             "minorgridcolor": "white",
             "startlinecolor": "#2a3f5f"
            },
            "type": "carpet"
           }
          ],
          "choropleth": [
           {
            "colorbar": {
             "outlinewidth": 0,
             "ticks": ""
            },
            "type": "choropleth"
           }
          ],
          "contour": [
           {
            "colorbar": {
             "outlinewidth": 0,
             "ticks": ""
            },
            "colorscale": [
             [
              0,
              "#0d0887"
             ],
             [
              0.1111111111111111,
              "#46039f"
             ],
             [
              0.2222222222222222,
              "#7201a8"
             ],
             [
              0.3333333333333333,
              "#9c179e"
             ],
             [
              0.4444444444444444,
              "#bd3786"
             ],
             [
              0.5555555555555556,
              "#d8576b"
             ],
             [
              0.6666666666666666,
              "#ed7953"
             ],
             [
              0.7777777777777778,
              "#fb9f3a"
             ],
             [
              0.8888888888888888,
              "#fdca26"
             ],
             [
              1,
              "#f0f921"
             ]
            ],
            "type": "contour"
           }
          ],
          "contourcarpet": [
           {
            "colorbar": {
             "outlinewidth": 0,
             "ticks": ""
            },
            "type": "contourcarpet"
           }
          ],
          "heatmap": [
           {
            "colorbar": {
             "outlinewidth": 0,
             "ticks": ""
            },
            "colorscale": [
             [
              0,
              "#0d0887"
             ],
             [
              0.1111111111111111,
              "#46039f"
             ],
             [
              0.2222222222222222,
              "#7201a8"
             ],
             [
              0.3333333333333333,
              "#9c179e"
             ],
             [
              0.4444444444444444,
              "#bd3786"
             ],
             [
              0.5555555555555556,
              "#d8576b"
             ],
             [
              0.6666666666666666,
              "#ed7953"
             ],
             [
              0.7777777777777778,
              "#fb9f3a"
             ],
             [
              0.8888888888888888,
              "#fdca26"
             ],
             [
              1,
              "#f0f921"
             ]
            ],
            "type": "heatmap"
           }
          ],
          "heatmapgl": [
           {
            "colorbar": {
             "outlinewidth": 0,
             "ticks": ""
            },
            "colorscale": [
             [
              0,
              "#0d0887"
             ],
             [
              0.1111111111111111,
              "#46039f"
             ],
             [
              0.2222222222222222,
              "#7201a8"
             ],
             [
              0.3333333333333333,
              "#9c179e"
             ],
             [
              0.4444444444444444,
              "#bd3786"
             ],
             [
              0.5555555555555556,
              "#d8576b"
             ],
             [
              0.6666666666666666,
              "#ed7953"
             ],
             [
              0.7777777777777778,
              "#fb9f3a"
             ],
             [
              0.8888888888888888,
              "#fdca26"
             ],
             [
              1,
              "#f0f921"
             ]
            ],
            "type": "heatmapgl"
           }
          ],
          "histogram": [
           {
            "marker": {
             "colorbar": {
              "outlinewidth": 0,
              "ticks": ""
             }
            },
            "type": "histogram"
           }
          ],
          "histogram2d": [
           {
            "colorbar": {
             "outlinewidth": 0,
             "ticks": ""
            },
            "colorscale": [
             [
              0,
              "#0d0887"
             ],
             [
              0.1111111111111111,
              "#46039f"
             ],
             [
              0.2222222222222222,
              "#7201a8"
             ],
             [
              0.3333333333333333,
              "#9c179e"
             ],
             [
              0.4444444444444444,
              "#bd3786"
             ],
             [
              0.5555555555555556,
              "#d8576b"
             ],
             [
              0.6666666666666666,
              "#ed7953"
             ],
             [
              0.7777777777777778,
              "#fb9f3a"
             ],
             [
              0.8888888888888888,
              "#fdca26"
             ],
             [
              1,
              "#f0f921"
             ]
            ],
            "type": "histogram2d"
           }
          ],
          "histogram2dcontour": [
           {
            "colorbar": {
             "outlinewidth": 0,
             "ticks": ""
            },
            "colorscale": [
             [
              0,
              "#0d0887"
             ],
             [
              0.1111111111111111,
              "#46039f"
             ],
             [
              0.2222222222222222,
              "#7201a8"
             ],
             [
              0.3333333333333333,
              "#9c179e"
             ],
             [
              0.4444444444444444,
              "#bd3786"
             ],
             [
              0.5555555555555556,
              "#d8576b"
             ],
             [
              0.6666666666666666,
              "#ed7953"
             ],
             [
              0.7777777777777778,
              "#fb9f3a"
             ],
             [
              0.8888888888888888,
              "#fdca26"
             ],
             [
              1,
              "#f0f921"
             ]
            ],
            "type": "histogram2dcontour"
           }
          ],
          "mesh3d": [
           {
            "colorbar": {
             "outlinewidth": 0,
             "ticks": ""
            },
            "type": "mesh3d"
           }
          ],
          "parcoords": [
           {
            "line": {
             "colorbar": {
              "outlinewidth": 0,
              "ticks": ""
             }
            },
            "type": "parcoords"
           }
          ],
          "pie": [
           {
            "automargin": true,
            "type": "pie"
           }
          ],
          "scatter": [
           {
            "marker": {
             "colorbar": {
              "outlinewidth": 0,
              "ticks": ""
             }
            },
            "type": "scatter"
           }
          ],
          "scatter3d": [
           {
            "line": {
             "colorbar": {
              "outlinewidth": 0,
              "ticks": ""
             }
            },
            "marker": {
             "colorbar": {
              "outlinewidth": 0,
              "ticks": ""
             }
            },
            "type": "scatter3d"
           }
          ],
          "scattercarpet": [
           {
            "marker": {
             "colorbar": {
              "outlinewidth": 0,
              "ticks": ""
             }
            },
            "type": "scattercarpet"
           }
          ],
          "scattergeo": [
           {
            "marker": {
             "colorbar": {
              "outlinewidth": 0,
              "ticks": ""
             }
            },
            "type": "scattergeo"
           }
          ],
          "scattergl": [
           {
            "marker": {
             "colorbar": {
              "outlinewidth": 0,
              "ticks": ""
             }
            },
            "type": "scattergl"
           }
          ],
          "scattermapbox": [
           {
            "marker": {
             "colorbar": {
              "outlinewidth": 0,
              "ticks": ""
             }
            },
            "type": "scattermapbox"
           }
          ],
          "scatterpolar": [
           {
            "marker": {
             "colorbar": {
              "outlinewidth": 0,
              "ticks": ""
             }
            },
            "type": "scatterpolar"
           }
          ],
          "scatterpolargl": [
           {
            "marker": {
             "colorbar": {
              "outlinewidth": 0,
              "ticks": ""
             }
            },
            "type": "scatterpolargl"
           }
          ],
          "scatterternary": [
           {
            "marker": {
             "colorbar": {
              "outlinewidth": 0,
              "ticks": ""
             }
            },
            "type": "scatterternary"
           }
          ],
          "surface": [
           {
            "colorbar": {
             "outlinewidth": 0,
             "ticks": ""
            },
            "colorscale": [
             [
              0,
              "#0d0887"
             ],
             [
              0.1111111111111111,
              "#46039f"
             ],
             [
              0.2222222222222222,
              "#7201a8"
             ],
             [
              0.3333333333333333,
              "#9c179e"
             ],
             [
              0.4444444444444444,
              "#bd3786"
             ],
             [
              0.5555555555555556,
              "#d8576b"
             ],
             [
              0.6666666666666666,
              "#ed7953"
             ],
             [
              0.7777777777777778,
              "#fb9f3a"
             ],
             [
              0.8888888888888888,
              "#fdca26"
             ],
             [
              1,
              "#f0f921"
             ]
            ],
            "type": "surface"
           }
          ],
          "table": [
           {
            "cells": {
             "fill": {
              "color": "#EBF0F8"
             },
             "line": {
              "color": "white"
             }
            },
            "header": {
             "fill": {
              "color": "#C8D4E3"
             },
             "line": {
              "color": "white"
             }
            },
            "type": "table"
           }
          ]
         },
         "layout": {
          "annotationdefaults": {
           "arrowcolor": "#2a3f5f",
           "arrowhead": 0,
           "arrowwidth": 1
          },
          "coloraxis": {
           "colorbar": {
            "outlinewidth": 0,
            "ticks": ""
           }
          },
          "colorscale": {
           "diverging": [
            [
             0,
             "#8e0152"
            ],
            [
             0.1,
             "#c51b7d"
            ],
            [
             0.2,
             "#de77ae"
            ],
            [
             0.3,
             "#f1b6da"
            ],
            [
             0.4,
             "#fde0ef"
            ],
            [
             0.5,
             "#f7f7f7"
            ],
            [
             0.6,
             "#e6f5d0"
            ],
            [
             0.7,
             "#b8e186"
            ],
            [
             0.8,
             "#7fbc41"
            ],
            [
             0.9,
             "#4d9221"
            ],
            [
             1,
             "#276419"
            ]
           ],
           "sequential": [
            [
             0,
             "#0d0887"
            ],
            [
             0.1111111111111111,
             "#46039f"
            ],
            [
             0.2222222222222222,
             "#7201a8"
            ],
            [
             0.3333333333333333,
             "#9c179e"
            ],
            [
             0.4444444444444444,
             "#bd3786"
            ],
            [
             0.5555555555555556,
             "#d8576b"
            ],
            [
             0.6666666666666666,
             "#ed7953"
            ],
            [
             0.7777777777777778,
             "#fb9f3a"
            ],
            [
             0.8888888888888888,
             "#fdca26"
            ],
            [
             1,
             "#f0f921"
            ]
           ],
           "sequentialminus": [
            [
             0,
             "#0d0887"
            ],
            [
             0.1111111111111111,
             "#46039f"
            ],
            [
             0.2222222222222222,
             "#7201a8"
            ],
            [
             0.3333333333333333,
             "#9c179e"
            ],
            [
             0.4444444444444444,
             "#bd3786"
            ],
            [
             0.5555555555555556,
             "#d8576b"
            ],
            [
             0.6666666666666666,
             "#ed7953"
            ],
            [
             0.7777777777777778,
             "#fb9f3a"
            ],
            [
             0.8888888888888888,
             "#fdca26"
            ],
            [
             1,
             "#f0f921"
            ]
           ]
          },
          "colorway": [
           "#636efa",
           "#EF553B",
           "#00cc96",
           "#ab63fa",
           "#FFA15A",
           "#19d3f3",
           "#FF6692",
           "#B6E880",
           "#FF97FF",
           "#FECB52"
          ],
          "font": {
           "color": "#2a3f5f"
          },
          "geo": {
           "bgcolor": "white",
           "lakecolor": "white",
           "landcolor": "#E5ECF6",
           "showlakes": true,
           "showland": true,
           "subunitcolor": "white"
          },
          "hoverlabel": {
           "align": "left"
          },
          "hovermode": "closest",
          "mapbox": {
           "style": "light"
          },
          "paper_bgcolor": "white",
          "plot_bgcolor": "#E5ECF6",
          "polar": {
           "angularaxis": {
            "gridcolor": "white",
            "linecolor": "white",
            "ticks": ""
           },
           "bgcolor": "#E5ECF6",
           "radialaxis": {
            "gridcolor": "white",
            "linecolor": "white",
            "ticks": ""
           }
          },
          "scene": {
           "xaxis": {
            "backgroundcolor": "#E5ECF6",
            "gridcolor": "white",
            "gridwidth": 2,
            "linecolor": "white",
            "showbackground": true,
            "ticks": "",
            "zerolinecolor": "white"
           },
           "yaxis": {
            "backgroundcolor": "#E5ECF6",
            "gridcolor": "white",
            "gridwidth": 2,
            "linecolor": "white",
            "showbackground": true,
            "ticks": "",
            "zerolinecolor": "white"
           },
           "zaxis": {
            "backgroundcolor": "#E5ECF6",
            "gridcolor": "white",
            "gridwidth": 2,
            "linecolor": "white",
            "showbackground": true,
            "ticks": "",
            "zerolinecolor": "white"
           }
          },
          "shapedefaults": {
           "line": {
            "color": "#2a3f5f"
           }
          },
          "ternary": {
           "aaxis": {
            "gridcolor": "white",
            "linecolor": "white",
            "ticks": ""
           },
           "baxis": {
            "gridcolor": "white",
            "linecolor": "white",
            "ticks": ""
           },
           "bgcolor": "#E5ECF6",
           "caxis": {
            "gridcolor": "white",
            "linecolor": "white",
            "ticks": ""
           }
          },
          "title": {
           "x": 0.05
          },
          "xaxis": {
           "automargin": true,
           "gridcolor": "white",
           "linecolor": "white",
           "ticks": "",
           "title": {
            "standoff": 15
           },
           "zerolinecolor": "white",
           "zerolinewidth": 2
          },
          "yaxis": {
           "automargin": true,
           "gridcolor": "white",
           "linecolor": "white",
           "ticks": "",
           "title": {
            "standoff": 15
           },
           "zerolinecolor": "white",
           "zerolinewidth": 2
          }
         }
        },
        "title": {
         "text": "Origin countries of articles authors"
        }
       }
      },
      "text/html": [
       "<div>\n",
       "        \n",
       "        \n",
       "            <div id=\"a1333437-f5a0-4cc7-887d-bfb3dcd1b71a\" class=\"plotly-graph-div\" style=\"height:525px; width:100%;\"></div>\n",
       "            <script type=\"text/javascript\">\n",
       "                require([\"plotly\"], function(Plotly) {\n",
       "                    window.PLOTLYENV=window.PLOTLYENV || {};\n",
       "                    \n",
       "                if (document.getElementById(\"a1333437-f5a0-4cc7-887d-bfb3dcd1b71a\")) {\n",
       "                    Plotly.newPlot(\n",
       "                        'a1333437-f5a0-4cc7-887d-bfb3dcd1b71a',\n",
       "                        [{\"colorbar\": {\"title\": {\"text\": \"No. of authors from country\"}}, \"colorscale\": [[0.0, \"#fde725\"], [0.1111111111111111, \"#b5de2b\"], [0.2222222222222222, \"#6ece58\"], [0.3333333333333333, \"#35b779\"], [0.4444444444444444, \"#1f9e89\"], [0.5555555555555556, \"#26828e\"], [0.6666666666666666, \"#31688e\"], [0.7777777777777778, \"#3e4989\"], [0.8888888888888888, \"#482878\"], [1.0, \"#440154\"]], \"locations\": [\"JPN\", \"USA\", \"CHN\", \"GBR\", \"AUS\", \"CAN\", \"HKG\", \"ESP\", \"GEO\", \"AUT\", \"RUS\", \"POL\", \"ITA\", \"IND\", \"SGP\", \"SRB\", \"MEX\", \"BRA\"], \"text\": [\"Japan\", \"United States\", \"China\", \"United Kingdom\", \"Australia\", \"Canada\", \"Hong Kong\", \"Spain\", \"Georgia\", \"Austria\", \"Russian Federation\", \"Poland\", \"Italy\", \"India\", \"Singapore\", \"Serbia\", \"Mexico\", \"Brazil\"], \"type\": \"choropleth\", \"z\": [19, 16, 14, 12, 9, 8, 6, 6, 6, 3, 3, 2, 2, 2, 2, 2, 1, 1]}],\n",
       "                        {\"geo\": {\"showframe\": false}, \"template\": {\"data\": {\"bar\": [{\"error_x\": {\"color\": \"#2a3f5f\"}, \"error_y\": {\"color\": \"#2a3f5f\"}, \"marker\": {\"line\": {\"color\": \"#E5ECF6\", \"width\": 0.5}}, \"type\": \"bar\"}], \"barpolar\": [{\"marker\": {\"line\": {\"color\": \"#E5ECF6\", \"width\": 0.5}}, \"type\": \"barpolar\"}], \"carpet\": [{\"aaxis\": {\"endlinecolor\": \"#2a3f5f\", \"gridcolor\": \"white\", \"linecolor\": \"white\", \"minorgridcolor\": \"white\", \"startlinecolor\": \"#2a3f5f\"}, \"baxis\": {\"endlinecolor\": \"#2a3f5f\", \"gridcolor\": \"white\", \"linecolor\": \"white\", \"minorgridcolor\": \"white\", \"startlinecolor\": \"#2a3f5f\"}, \"type\": \"carpet\"}], \"choropleth\": [{\"colorbar\": {\"outlinewidth\": 0, \"ticks\": \"\"}, \"type\": \"choropleth\"}], \"contour\": [{\"colorbar\": {\"outlinewidth\": 0, \"ticks\": \"\"}, \"colorscale\": [[0.0, \"#0d0887\"], [0.1111111111111111, \"#46039f\"], [0.2222222222222222, \"#7201a8\"], [0.3333333333333333, \"#9c179e\"], [0.4444444444444444, \"#bd3786\"], [0.5555555555555556, \"#d8576b\"], [0.6666666666666666, \"#ed7953\"], [0.7777777777777778, \"#fb9f3a\"], [0.8888888888888888, \"#fdca26\"], [1.0, \"#f0f921\"]], \"type\": \"contour\"}], \"contourcarpet\": [{\"colorbar\": {\"outlinewidth\": 0, \"ticks\": \"\"}, \"type\": \"contourcarpet\"}], \"heatmap\": [{\"colorbar\": {\"outlinewidth\": 0, \"ticks\": \"\"}, \"colorscale\": [[0.0, \"#0d0887\"], [0.1111111111111111, \"#46039f\"], [0.2222222222222222, \"#7201a8\"], [0.3333333333333333, \"#9c179e\"], [0.4444444444444444, \"#bd3786\"], [0.5555555555555556, \"#d8576b\"], [0.6666666666666666, \"#ed7953\"], [0.7777777777777778, \"#fb9f3a\"], [0.8888888888888888, \"#fdca26\"], [1.0, \"#f0f921\"]], \"type\": \"heatmap\"}], \"heatmapgl\": [{\"colorbar\": {\"outlinewidth\": 0, \"ticks\": \"\"}, \"colorscale\": [[0.0, \"#0d0887\"], [0.1111111111111111, \"#46039f\"], [0.2222222222222222, \"#7201a8\"], [0.3333333333333333, \"#9c179e\"], [0.4444444444444444, \"#bd3786\"], [0.5555555555555556, \"#d8576b\"], [0.6666666666666666, \"#ed7953\"], [0.7777777777777778, \"#fb9f3a\"], [0.8888888888888888, \"#fdca26\"], [1.0, \"#f0f921\"]], \"type\": \"heatmapgl\"}], \"histogram\": [{\"marker\": {\"colorbar\": {\"outlinewidth\": 0, \"ticks\": \"\"}}, \"type\": \"histogram\"}], \"histogram2d\": [{\"colorbar\": {\"outlinewidth\": 0, \"ticks\": \"\"}, \"colorscale\": [[0.0, \"#0d0887\"], [0.1111111111111111, \"#46039f\"], [0.2222222222222222, \"#7201a8\"], [0.3333333333333333, \"#9c179e\"], [0.4444444444444444, \"#bd3786\"], [0.5555555555555556, \"#d8576b\"], [0.6666666666666666, \"#ed7953\"], [0.7777777777777778, \"#fb9f3a\"], [0.8888888888888888, \"#fdca26\"], [1.0, \"#f0f921\"]], \"type\": \"histogram2d\"}], \"histogram2dcontour\": [{\"colorbar\": {\"outlinewidth\": 0, \"ticks\": \"\"}, \"colorscale\": [[0.0, \"#0d0887\"], [0.1111111111111111, \"#46039f\"], [0.2222222222222222, \"#7201a8\"], [0.3333333333333333, \"#9c179e\"], [0.4444444444444444, \"#bd3786\"], [0.5555555555555556, \"#d8576b\"], [0.6666666666666666, \"#ed7953\"], [0.7777777777777778, \"#fb9f3a\"], [0.8888888888888888, \"#fdca26\"], [1.0, \"#f0f921\"]], \"type\": \"histogram2dcontour\"}], \"mesh3d\": [{\"colorbar\": {\"outlinewidth\": 0, \"ticks\": \"\"}, \"type\": \"mesh3d\"}], \"parcoords\": [{\"line\": {\"colorbar\": {\"outlinewidth\": 0, \"ticks\": \"\"}}, \"type\": \"parcoords\"}], \"pie\": [{\"automargin\": true, \"type\": \"pie\"}], \"scatter\": [{\"marker\": {\"colorbar\": {\"outlinewidth\": 0, \"ticks\": \"\"}}, \"type\": \"scatter\"}], \"scatter3d\": [{\"line\": {\"colorbar\": {\"outlinewidth\": 0, \"ticks\": \"\"}}, \"marker\": {\"colorbar\": {\"outlinewidth\": 0, \"ticks\": \"\"}}, \"type\": \"scatter3d\"}], \"scattercarpet\": [{\"marker\": {\"colorbar\": {\"outlinewidth\": 0, \"ticks\": \"\"}}, \"type\": \"scattercarpet\"}], \"scattergeo\": [{\"marker\": {\"colorbar\": {\"outlinewidth\": 0, \"ticks\": \"\"}}, \"type\": \"scattergeo\"}], \"scattergl\": [{\"marker\": {\"colorbar\": {\"outlinewidth\": 0, \"ticks\": \"\"}}, \"type\": \"scattergl\"}], \"scattermapbox\": [{\"marker\": {\"colorbar\": {\"outlinewidth\": 0, \"ticks\": \"\"}}, \"type\": \"scattermapbox\"}], \"scatterpolar\": [{\"marker\": {\"colorbar\": {\"outlinewidth\": 0, \"ticks\": \"\"}}, \"type\": \"scatterpolar\"}], \"scatterpolargl\": [{\"marker\": {\"colorbar\": {\"outlinewidth\": 0, \"ticks\": \"\"}}, \"type\": \"scatterpolargl\"}], \"scatterternary\": [{\"marker\": {\"colorbar\": {\"outlinewidth\": 0, \"ticks\": \"\"}}, \"type\": \"scatterternary\"}], \"surface\": [{\"colorbar\": {\"outlinewidth\": 0, \"ticks\": \"\"}, \"colorscale\": [[0.0, \"#0d0887\"], [0.1111111111111111, \"#46039f\"], [0.2222222222222222, \"#7201a8\"], [0.3333333333333333, \"#9c179e\"], [0.4444444444444444, \"#bd3786\"], [0.5555555555555556, \"#d8576b\"], [0.6666666666666666, \"#ed7953\"], [0.7777777777777778, \"#fb9f3a\"], [0.8888888888888888, \"#fdca26\"], [1.0, \"#f0f921\"]], \"type\": \"surface\"}], \"table\": [{\"cells\": {\"fill\": {\"color\": \"#EBF0F8\"}, \"line\": {\"color\": \"white\"}}, \"header\": {\"fill\": {\"color\": \"#C8D4E3\"}, \"line\": {\"color\": \"white\"}}, \"type\": \"table\"}]}, \"layout\": {\"annotationdefaults\": {\"arrowcolor\": \"#2a3f5f\", \"arrowhead\": 0, \"arrowwidth\": 1}, \"coloraxis\": {\"colorbar\": {\"outlinewidth\": 0, \"ticks\": \"\"}}, \"colorscale\": {\"diverging\": [[0, \"#8e0152\"], [0.1, \"#c51b7d\"], [0.2, \"#de77ae\"], [0.3, \"#f1b6da\"], [0.4, \"#fde0ef\"], [0.5, \"#f7f7f7\"], [0.6, \"#e6f5d0\"], [0.7, \"#b8e186\"], [0.8, \"#7fbc41\"], [0.9, \"#4d9221\"], [1, \"#276419\"]], \"sequential\": [[0.0, \"#0d0887\"], [0.1111111111111111, \"#46039f\"], [0.2222222222222222, \"#7201a8\"], [0.3333333333333333, \"#9c179e\"], [0.4444444444444444, \"#bd3786\"], [0.5555555555555556, \"#d8576b\"], [0.6666666666666666, \"#ed7953\"], [0.7777777777777778, \"#fb9f3a\"], [0.8888888888888888, \"#fdca26\"], [1.0, \"#f0f921\"]], \"sequentialminus\": [[0.0, \"#0d0887\"], [0.1111111111111111, \"#46039f\"], [0.2222222222222222, \"#7201a8\"], [0.3333333333333333, \"#9c179e\"], [0.4444444444444444, \"#bd3786\"], [0.5555555555555556, \"#d8576b\"], [0.6666666666666666, \"#ed7953\"], [0.7777777777777778, \"#fb9f3a\"], [0.8888888888888888, \"#fdca26\"], [1.0, \"#f0f921\"]]}, \"colorway\": [\"#636efa\", \"#EF553B\", \"#00cc96\", \"#ab63fa\", \"#FFA15A\", \"#19d3f3\", \"#FF6692\", \"#B6E880\", \"#FF97FF\", \"#FECB52\"], \"font\": {\"color\": \"#2a3f5f\"}, \"geo\": {\"bgcolor\": \"white\", \"lakecolor\": \"white\", \"landcolor\": \"#E5ECF6\", \"showlakes\": true, \"showland\": true, \"subunitcolor\": \"white\"}, \"hoverlabel\": {\"align\": \"left\"}, \"hovermode\": \"closest\", \"mapbox\": {\"style\": \"light\"}, \"paper_bgcolor\": \"white\", \"plot_bgcolor\": \"#E5ECF6\", \"polar\": {\"angularaxis\": {\"gridcolor\": \"white\", \"linecolor\": \"white\", \"ticks\": \"\"}, \"bgcolor\": \"#E5ECF6\", \"radialaxis\": {\"gridcolor\": \"white\", \"linecolor\": \"white\", \"ticks\": \"\"}}, \"scene\": {\"xaxis\": {\"backgroundcolor\": \"#E5ECF6\", \"gridcolor\": \"white\", \"gridwidth\": 2, \"linecolor\": \"white\", \"showbackground\": true, \"ticks\": \"\", \"zerolinecolor\": \"white\"}, \"yaxis\": {\"backgroundcolor\": \"#E5ECF6\", \"gridcolor\": \"white\", \"gridwidth\": 2, \"linecolor\": \"white\", \"showbackground\": true, \"ticks\": \"\", \"zerolinecolor\": \"white\"}, \"zaxis\": {\"backgroundcolor\": \"#E5ECF6\", \"gridcolor\": \"white\", \"gridwidth\": 2, \"linecolor\": \"white\", \"showbackground\": true, \"ticks\": \"\", \"zerolinecolor\": \"white\"}}, \"shapedefaults\": {\"line\": {\"color\": \"#2a3f5f\"}}, \"ternary\": {\"aaxis\": {\"gridcolor\": \"white\", \"linecolor\": \"white\", \"ticks\": \"\"}, \"baxis\": {\"gridcolor\": \"white\", \"linecolor\": \"white\", \"ticks\": \"\"}, \"bgcolor\": \"#E5ECF6\", \"caxis\": {\"gridcolor\": \"white\", \"linecolor\": \"white\", \"ticks\": \"\"}}, \"title\": {\"x\": 0.05}, \"xaxis\": {\"automargin\": true, \"gridcolor\": \"white\", \"linecolor\": \"white\", \"ticks\": \"\", \"title\": {\"standoff\": 15}, \"zerolinecolor\": \"white\", \"zerolinewidth\": 2}, \"yaxis\": {\"automargin\": true, \"gridcolor\": \"white\", \"linecolor\": \"white\", \"ticks\": \"\", \"title\": {\"standoff\": 15}, \"zerolinecolor\": \"white\", \"zerolinewidth\": 2}}}, \"title\": {\"text\": \"Origin countries of articles authors\"}},\n",
       "                        {\"responsive\": true}\n",
       "                    ).then(function(){\n",
       "                            \n",
       "var gd = document.getElementById('a1333437-f5a0-4cc7-887d-bfb3dcd1b71a');\n",
       "var x = new MutationObserver(function (mutations, observer) {{\n",
       "        var display = window.getComputedStyle(gd).display;\n",
       "        if (!display || display === 'none') {{\n",
       "            console.log([gd, 'removed!']);\n",
       "            Plotly.purge(gd);\n",
       "            observer.disconnect();\n",
       "        }}\n",
       "}});\n",
       "\n",
       "// Listen for the removal of the full notebook cells\n",
       "var notebookContainer = gd.closest('#notebook-container');\n",
       "if (notebookContainer) {{\n",
       "    x.observe(notebookContainer, {childList: true});\n",
       "}}\n",
       "\n",
       "// Listen for the clearing of the current output cell\n",
       "var outputEl = gd.closest('.output');\n",
       "if (outputEl) {{\n",
       "    x.observe(outputEl, {childList: true});\n",
       "}}\n",
       "\n",
       "                        })\n",
       "                };\n",
       "                });\n",
       "            </script>\n",
       "        </div>"
      ]
     },
     "metadata": {},
     "output_type": "display_data"
    }
   ],
   "source": [
    "choromap = go.Figure(data = [map_data],layout = layout)\n",
    "iplot(choromap)"
   ]
  },
  {
   "cell_type": "code",
   "execution_count": 47,
   "metadata": {},
   "outputs": [
    {
     "data": {
      "text/plain": [
       "'authors_map.html'"
      ]
     },
     "execution_count": 47,
     "metadata": {},
     "output_type": "execute_result"
    }
   ],
   "source": [
    "plot(choromap, filename = 'authors_map.html', auto_open=False)"
   ]
  },
  {
   "cell_type": "code",
   "execution_count": 19,
   "metadata": {},
   "outputs": [
    {
     "data": {
      "text/plain": [
       "<matplotlib.axes._subplots.AxesSubplot at 0x16161ee0>"
      ]
     },
     "execution_count": 19,
     "metadata": {},
     "output_type": "execute_result"
    },
    {
     "data": {
      "image/png": "[encoded data removed]",
      "text/plain": [
       "<Figure size 864x432 with 1 Axes>"
      ]
     },
     "metadata": {
      "needs_background": "light"
     },
     "output_type": "display_data"
    }
   ],
   "source": [
    "fig_dims = (12, 6)\n",
    "fig, ax = plt.subplots(figsize=fig_dims)\n",
    "sns.heatmap(data.isnull(),yticklabels=False,cbar=False,cmap='viridis',ax=ax)"
   ]
  },
  {
   "cell_type": "code",
   "execution_count": 20,
   "metadata": {},
   "outputs": [
    {
     "name": "stderr",
     "output_type": "stream",
     "text": [
      "<ipython-input-20-6b5d871efd86>:6: TqdmDeprecationWarning:\n",
      "\n",
      "This function will be removed in tqdm==5.0.0\n",
      "Please use `tqdm.notebook.tqdm` instead of `tqdm.tqdm_notebook`\n",
      "\n"
     ]
    },
    {
     "data": {
      "application/vnd.jupyter.widget-view+json": {
       "model_id": "7aa287869a324abfa1121387eeaf2da9",
       "version_major": 2,
       "version_minor": 0
      },
      "text/plain": [
       "HBox(children=(FloatProgress(value=1.0, bar_style='info', max=1.0), HTML(value='')))"
      ]
     },
     "metadata": {},
     "output_type": "display_data"
    },
    {
     "name": "stderr",
     "output_type": "stream",
     "text": [
      "c:\\dev\\web-intelligence-project\\venv\\lib\\site-packages\\tqdm\\std.py:666: FutureWarning:\n",
      "\n",
      "The Panel class is removed from pandas. Accessing it from the top-level namespace will also be removed in the next version\n",
      "\n",
      "[nltk_data] Downloading package punkt to C:\\Users\\Maksymilian\n",
      "[nltk_data]     Operlejn\\AppData\\Roaming\\nltk_data...\n",
      "[nltk_data]   Package punkt is already up-to-date!\n"
     ]
    },
    {
     "data": {
      "application/vnd.jupyter.widget-view+json": {
       "model_id": "22a62e524921423394ffb8c824a3332f",
       "version_major": 2,
       "version_minor": 0
      },
      "text/plain": [
       "HBox(children=(FloatProgress(value=0.0, max=160.0), HTML(value='')))"
      ]
     },
     "metadata": {},
     "output_type": "display_data"
    },
    {
     "name": "stdout",
     "output_type": "stream",
     "text": [
      "\n"
     ]
    },
    {
     "data": {
      "text/plain": [
       "['We present first some general remarks on challenges faced by modern information technology, notably when a human being is a relevant factor.',\n",
       " 'These challenges are mainly related to inherent difficulties in solving some \"meta-problems\", in particular broadly perceived decision making.',\n",
       " 'We assume, on the one hand, business intelligence related perspective, augmented with elements of Web intelligence, to fully use all available tools and resources.']"
      ]
     },
     "execution_count": 20,
     "metadata": {},
     "output_type": "execute_result"
    }
   ],
   "source": [
    "from nltk.tokenize import sent_tokenize\n",
    "\n",
    "import nltk\n",
    "\n",
    "from tqdm import tqdm_notebook\n",
    "tqdm_notebook().pandas()\n",
    "\n",
    "nltk.download('punkt')\n",
    "#import tqdm\n",
    "#tqdm.notebook.tqdm.pandas()\n",
    "\n",
    "data['sentences'] = data.Abstract.progress_map(sent_tokenize)\n",
    "data['sentences'].head(1).tolist()[0][:3] # Print the first 3 sentences of the 1st article"
   ]
  },
  {
   "cell_type": "code",
   "execution_count": 21,
   "metadata": {},
   "outputs": [
    {
     "data": {
      "application/vnd.jupyter.widget-view+json": {
       "model_id": "4585b919c17c477590177625488ec18e",
       "version_major": 2,
       "version_minor": 0
      },
      "text/plain": [
       "HBox(children=(FloatProgress(value=0.0, max=160.0), HTML(value='')))"
      ]
     },
     "metadata": {},
     "output_type": "display_data"
    },
    {
     "name": "stdout",
     "output_type": "stream",
     "text": [
      "\n",
      "[['We', 'present', 'first', 'some', 'general', 'remarks', 'on', 'challenges', 'faced', 'by', 'modern', 'information', 'technology', ',', 'notably', 'when', 'a', 'human', 'being', 'is', 'a', 'relevant', 'factor', '.'], ['These', 'challenges', 'are', 'mainly', 'related', 'to', 'inherent', 'difficulties', 'in', 'solving', 'some', '``', 'meta-problems', \"''\", ',', 'in', 'particular', 'broadly', 'perceived', 'decision', 'making', '.'], ['We', 'assume', ',', 'on', 'the', 'one', 'hand', ',', 'business', 'intelligence', 'related', 'perspective', ',', 'augmented', 'with', 'elements', 'of', 'Web', 'intelligence', ',', 'to', 'fully', 'use', 'all', 'available', 'tools', 'and', 'resources', '.']]\n"
     ]
    }
   ],
   "source": [
    "from nltk.tokenize import word_tokenize\n",
    "\n",
    "data['tokens_sentences'] = data['sentences'].progress_map(lambda sentences: [word_tokenize(sentence) for sentence in sentences])\n",
    "print(data['tokens_sentences'].head(1).tolist()[0][:3])"
   ]
  },
  {
   "cell_type": "code",
   "execution_count": 22,
   "metadata": {},
   "outputs": [
    {
     "name": "stderr",
     "output_type": "stream",
     "text": [
      "[nltk_data] Downloading package averaged_perceptron_tagger to\n",
      "[nltk_data]     C:\\Users\\Maksymilian\n",
      "[nltk_data]     Operlejn\\AppData\\Roaming\\nltk_data...\n",
      "[nltk_data]   Package averaged_perceptron_tagger is already up-to-\n",
      "[nltk_data]       date!\n"
     ]
    },
    {
     "data": {
      "application/vnd.jupyter.widget-view+json": {
       "model_id": "52a2ec1c459c47c1bd4bc3fe1cf94aae",
       "version_major": 2,
       "version_minor": 0
      },
      "text/plain": [
       "HBox(children=(FloatProgress(value=0.0, max=160.0), HTML(value='')))"
      ]
     },
     "metadata": {},
     "output_type": "display_data"
    },
    {
     "name": "stdout",
     "output_type": "stream",
     "text": [
      "\n",
      "[[('We', 'PRP'), ('present', 'VBP'), ('first', 'RB'), ('some', 'DT'), ('general', 'JJ'), ('remarks', 'NNS'), ('on', 'IN'), ('challenges', 'NNS'), ('faced', 'VBN'), ('by', 'IN'), ('modern', 'JJ'), ('information', 'NN'), ('technology', 'NN'), (',', ','), ('notably', 'RB'), ('when', 'WRB'), ('a', 'DT'), ('human', 'JJ'), ('being', 'VBG'), ('is', 'VBZ'), ('a', 'DT'), ('relevant', 'JJ'), ('factor', 'NN'), ('.', '.')], [('These', 'DT'), ('challenges', 'NNS'), ('are', 'VBP'), ('mainly', 'RB'), ('related', 'VBN'), ('to', 'TO'), ('inherent', 'JJ'), ('difficulties', 'NNS'), ('in', 'IN'), ('solving', 'VBG'), ('some', 'DT'), ('``', '``'), ('meta-problems', 'JJ'), (\"''\", \"''\"), (',', ','), ('in', 'IN'), ('particular', 'JJ'), ('broadly', 'RB'), ('perceived', 'JJ'), ('decision', 'NN'), ('making', 'NN'), ('.', '.')], [('We', 'PRP'), ('assume', 'VBP'), (',', ','), ('on', 'IN'), ('the', 'DT'), ('one', 'CD'), ('hand', 'NN'), (',', ','), ('business', 'NN'), ('intelligence', 'NN'), ('related', 'VBN'), ('perspective', 'NN'), (',', ','), ('augmented', 'VBN'), ('with', 'IN'), ('elements', 'NNS'), ('of', 'IN'), ('Web', 'NNP'), ('intelligence', 'NN'), (',', ','), ('to', 'TO'), ('fully', 'RB'), ('use', 'VB'), ('all', 'DT'), ('available', 'JJ'), ('tools', 'NNS'), ('and', 'CC'), ('resources', 'NNS'), ('.', '.')]]\n"
     ]
    }
   ],
   "source": [
    "from nltk import pos_tag\n",
    "\n",
    "nltk.download('averaged_perceptron_tagger')\n",
    "\n",
    "data['POS_tokens'] = data['tokens_sentences'].progress_map(lambda tokens_sentences: [pos_tag(tokens) for tokens in tokens_sentences])\n",
    "print(data['POS_tokens'].head(1).tolist()[0][:3])"
   ]
  },
  {
   "cell_type": "code",
   "execution_count": 23,
   "metadata": {},
   "outputs": [],
   "source": [
    "from nltk.corpus import wordnet\n",
    "\n",
    "def get_wordnet_pos(treebank_tag):\n",
    "\n",
    "    if treebank_tag.startswith('J'):\n",
    "        return wordnet.ADJ\n",
    "    elif treebank_tag.startswith('V'):\n",
    "        return wordnet.VERB\n",
    "    elif treebank_tag.startswith('N'):\n",
    "        return wordnet.NOUN\n",
    "    elif treebank_tag.startswith('R'):\n",
    "        return wordnet.ADV\n",
    "    else:\n",
    "        return ''\n",
    "\n",
    "from nltk.stem.wordnet import WordNetLemmatizer\n",
    "lemmatizer = WordNetLemmatizer()"
   ]
  },
  {
   "cell_type": "code",
   "execution_count": 24,
   "metadata": {},
   "outputs": [
    {
     "name": "stderr",
     "output_type": "stream",
     "text": [
      "[nltk_data] Downloading package wordnet to C:\\Users\\Maksymilian\n",
      "[nltk_data]     Operlejn\\AppData\\Roaming\\nltk_data...\n",
      "[nltk_data]   Package wordnet is already up-to-date!\n"
     ]
    },
    {
     "data": {
      "application/vnd.jupyter.widget-view+json": {
       "model_id": "daa8217abe5a437c9d7d9dcb78c89447",
       "version_major": 2,
       "version_minor": 0
      },
      "text/plain": [
       "HBox(children=(FloatProgress(value=0.0, max=160.0), HTML(value='')))"
      ]
     },
     "metadata": {},
     "output_type": "display_data"
    },
    {
     "name": "stdout",
     "output_type": "stream",
     "text": [
      "\n",
      "\n"
     ]
    },
    {
     "data": {
      "text/plain": [
       "[['We',\n",
       "  'present',\n",
       "  'first',\n",
       "  'some',\n",
       "  'general',\n",
       "  'remark',\n",
       "  'on',\n",
       "  'challenge',\n",
       "  'face',\n",
       "  'by',\n",
       "  'modern',\n",
       "  'information',\n",
       "  'technology',\n",
       "  ',',\n",
       "  'notably',\n",
       "  'when',\n",
       "  'a',\n",
       "  'human',\n",
       "  'be',\n",
       "  'be',\n",
       "  'a',\n",
       "  'relevant',\n",
       "  'factor',\n",
       "  '.'],\n",
       " ['These',\n",
       "  'challenge',\n",
       "  'be',\n",
       "  'mainly',\n",
       "  'relate',\n",
       "  'to',\n",
       "  'inherent',\n",
       "  'difficulty',\n",
       "  'in',\n",
       "  'solve',\n",
       "  'some',\n",
       "  '``',\n",
       "  'meta-problems',\n",
       "  \"''\",\n",
       "  ',',\n",
       "  'in',\n",
       "  'particular',\n",
       "  'broadly',\n",
       "  'perceived',\n",
       "  'decision',\n",
       "  'making',\n",
       "  '.'],\n",
       " ['We',\n",
       "  'assume',\n",
       "  ',',\n",
       "  'on',\n",
       "  'the',\n",
       "  'one',\n",
       "  'hand',\n",
       "  ',',\n",
       "  'business',\n",
       "  'intelligence',\n",
       "  'relate',\n",
       "  'perspective',\n",
       "  ',',\n",
       "  'augment',\n",
       "  'with',\n",
       "  'element',\n",
       "  'of',\n",
       "  'Web',\n",
       "  'intelligence',\n",
       "  ',',\n",
       "  'to',\n",
       "  'fully',\n",
       "  'use',\n",
       "  'all',\n",
       "  'available',\n",
       "  'tool',\n",
       "  'and',\n",
       "  'resource',\n",
       "  '.']]"
      ]
     },
     "execution_count": 24,
     "metadata": {},
     "output_type": "execute_result"
    }
   ],
   "source": [
    "nltk.download('wordnet')\n",
    "\n",
    "# Lemmatizing each word with its POS tag, in each sentence\n",
    "data['tokens_sentences_lemmatized'] = data['POS_tokens'].progress_map(\n",
    "    lambda list_tokens_POS: [\n",
    "        [\n",
    "            lemmatizer.lemmatize(el[0], get_wordnet_pos(el[1])) \n",
    "            if get_wordnet_pos(el[1]) != '' else el[0] for el in tokens_POS\n",
    "        ] \n",
    "        for tokens_POS in list_tokens_POS\n",
    "    ]\n",
    ")\n",
    "data['tokens_sentences_lemmatized'].head(1).tolist()[0][:3]"
   ]
  },
  {
   "cell_type": "code",
   "execution_count": 25,
   "metadata": {},
   "outputs": [
    {
     "name": "stderr",
     "output_type": "stream",
     "text": [
      "[nltk_data] Downloading package stopwords to C:\\Users\\Maksymilian\n",
      "[nltk_data]     Operlejn\\AppData\\Roaming\\nltk_data...\n",
      "[nltk_data]   Package stopwords is already up-to-date!\n"
     ]
    }
   ],
   "source": [
    "from nltk.corpus import stopwords\n",
    "nltk.download('stopwords')\n",
    "\n",
    "stopwords_verbs = ['say', 'get', 'go', 'know', 'may', 'need', 'like', 'make', 'see', 'want', 'come', 'take', 'use', 'would', 'can']\n",
    "stopwords_other = ['one', 'mr', 'bbc', 'image', 'getty', 'de', 'en', 'caption', 'also', 'copyright', 'something']\n",
    "my_stopwords = stopwords.words('English') + stopwords_verbs + stopwords_other"
   ]
  },
  {
   "cell_type": "code",
   "execution_count": 26,
   "metadata": {},
   "outputs": [],
   "source": [
    "from itertools import chain # to flatten list of sentences of tokens into list of tokens"
   ]
  },
  {
   "cell_type": "code",
   "execution_count": 27,
   "metadata": {},
   "outputs": [
    {
     "data": {
      "text/plain": [
       "['present',\n",
       " 'first',\n",
       " 'general',\n",
       " 'remark',\n",
       " 'challenge',\n",
       " 'face',\n",
       " 'modern',\n",
       " 'information',\n",
       " 'technology',\n",
       " 'notably',\n",
       " 'human',\n",
       " 'relevant',\n",
       " 'factor',\n",
       " 'challenge',\n",
       " 'mainly',\n",
       " 'relate',\n",
       " 'inherent',\n",
       " 'difficulty',\n",
       " 'solve',\n",
       " 'particular',\n",
       " 'broadly',\n",
       " 'perceived',\n",
       " 'decision',\n",
       " 'making',\n",
       " 'assume',\n",
       " 'hand',\n",
       " 'business',\n",
       " 'intelligence',\n",
       " 'relate',\n",
       " 'perspective']"
      ]
     },
     "execution_count": 27,
     "metadata": {},
     "output_type": "execute_result"
    }
   ],
   "source": [
    "data['tokens'] = data['tokens_sentences_lemmatized'].map(lambda sentences: list(chain.from_iterable(sentences)))\n",
    "data['tokens'] = data['tokens'].map(lambda tokens: [token.lower() for token in tokens if token.isalpha() \n",
    "                                                    and token.lower() not in my_stopwords and len(token)>1])\n",
    "data['tokens'].head(1).tolist()[0][:30]"
   ]
  },
  {
   "cell_type": "code",
   "execution_count": 28,
   "metadata": {},
   "outputs": [
    {
     "name": "stderr",
     "output_type": "stream",
     "text": [
      "unable to import 'smart_open.gcs', disabling that module\n"
     ]
    },
    {
     "name": "stdout",
     "output_type": "stream",
     "text": [
      "Wall time: 1.78 s\n"
     ]
    }
   ],
   "source": [
    "from gensim.models import Phrases\n",
    "\n",
    "tokens = data['tokens'].tolist()\n",
    "bigram_model = Phrases(tokens)\n",
    "trigram_model = Phrases(bigram_model[tokens], min_count=1)\n",
    "tokens = list(trigram_model[bigram_model[tokens]])\n",
    "\n",
    "from gensim import corpora\n",
    "\n",
    "dictionary_LDA = corpora.Dictionary(tokens)\n",
    "dictionary_LDA.filter_extremes(no_below=3)\n",
    "corpus = [dictionary_LDA.doc2bow(tok) for tok in tokens]\n",
    "\n",
    "from gensim import models\n",
    "\n",
    "np.random.seed(123456)\n",
    "num_topics = 7\n",
    "%time lda_model = models.LdaModel(corpus, num_topics=num_topics, \\\n",
    "                                  id2word=dictionary_LDA, \\\n",
    "                                  passes=4, alpha=[0.01]*num_topics, \\\n",
    "                                  eta=[0.01]*len(dictionary_LDA.keys()))"
   ]
  },
  {
   "cell_type": "code",
   "execution_count": 29,
   "metadata": {},
   "outputs": [
    {
     "name": "stdout",
     "output_type": "stream",
     "text": [
      "0: 0.043*\"web\" + 0.023*\"data\" + 0.016*\"model\" + 0.015*\"web_intelligence\" + 0.015*\"information\" + 0.012*\"tool\" + 0.012*\"system\" + 0.011*\"berlin_heidelberg\" + 0.011*\"provide\" + 0.009*\"user\" + 0.009*\"customer\" + 0.009*\"design\" + 0.009*\"present\" + 0.009*\"personalization\" + 0.008*\"web_intelligence_wi\" + 0.008*\"technology\" + 0.008*\"application\" + 0.008*\"various\" + 0.008*\"propose\" + 0.007*\"analysis\"\n",
      "\n",
      "1: 0.028*\"web\" + 0.027*\"information\" + 0.023*\"system\" + 0.016*\"approach\" + 0.015*\"user\" + 0.012*\"application\" + 0.011*\"network\" + 0.011*\"web_intelligence\" + 0.009*\"base\" + 0.009*\"learn\" + 0.008*\"new\" + 0.008*\"structure\" + 0.008*\"agent\" + 0.008*\"discuss\" + 0.007*\"information_retrieval\" + 0.007*\"internet\" + 0.007*\"technology\" + 0.007*\"problem\" + 0.007*\"knowledge\" + 0.007*\"intelligent\"\n",
      "\n",
      "2: 0.019*\"system\" + 0.018*\"information\" + 0.017*\"web_intelligence\" + 0.016*\"technique\" + 0.015*\"capability\" + 0.014*\"internet\" + 0.014*\"agent\" + 0.014*\"performance\" + 0.012*\"research\" + 0.011*\"cluster\" + 0.010*\"issue\" + 0.010*\"different\" + 0.009*\"application\" + 0.009*\"concept\" + 0.009*\"new\" + 0.009*\"category\" + 0.008*\"experiment\" + 0.008*\"web\" + 0.008*\"compare\" + 0.008*\"useful\"\n",
      "\n",
      "3: 0.027*\"information\" + 0.016*\"new\" + 0.016*\"system\" + 0.015*\"base\" + 0.014*\"web_intelligence\" + 0.013*\"model\" + 0.012*\"application\" + 0.012*\"web\" + 0.011*\"internet\" + 0.010*\"world_wide_web\" + 0.010*\"describe\" + 0.010*\"intelligent\" + 0.010*\"search_engine\" + 0.009*\"provide\" + 0.009*\"paper\" + 0.009*\"problem\" + 0.009*\"data\" + 0.008*\"grid\" + 0.007*\"develop\" + 0.007*\"service\"\n",
      "\n",
      "4: 0.025*\"reputation\" + 0.023*\"base\" + 0.022*\"system\" + 0.018*\"approach\" + 0.016*\"web\" + 0.015*\"information\" + 0.014*\"knowledge\" + 0.010*\"ieee\" + 0.010*\"idea\" + 0.009*\"problem\" + 0.009*\"environment\" + 0.009*\"interaction\" + 0.009*\"application\" + 0.008*\"provide\" + 0.008*\"service\" + 0.008*\"opinion_recommendation\" + 0.008*\"action_fraudulent\" + 0.008*\"service_unfair\" + 0.008*\"trading_bias\" + 0.008*\"capture_market\"\n",
      "\n",
      "5: 0.053*\"web\" + 0.017*\"base\" + 0.016*\"system\" + 0.015*\"web_intelligence\" + 0.010*\"knowledge\" + 0.010*\"research\" + 0.010*\"technology\" + 0.009*\"model\" + 0.009*\"semantic_web\" + 0.009*\"ontology\" + 0.008*\"include\" + 0.008*\"information\" + 0.008*\"technique\" + 0.007*\"distributed\" + 0.007*\"approach\" + 0.007*\"ieee\" + 0.007*\"application\" + 0.006*\"intelligent\" + 0.006*\"management\" + 0.006*\"document\"\n",
      "\n",
      "6: 0.035*\"system\" + 0.033*\"web\" + 0.028*\"web_intelligence\" + 0.015*\"fuzzy\" + 0.013*\"information\" + 0.012*\"data\" + 0.011*\"intelligent\" + 0.011*\"agent\" + 0.011*\"wi\" + 0.010*\"base\" + 0.009*\"research\" + 0.009*\"application\" + 0.009*\"knowledge\" + 0.008*\"ieee\" + 0.008*\"abstract_available\" + 0.008*\"user\" + 0.007*\"service\" + 0.007*\"develop\" + 0.007*\"language\" + 0.007*\"data_mining\"\n",
      "\n"
     ]
    }
   ],
   "source": [
    "for i,topic in lda_model.show_topics(formatted=True, num_topics=num_topics, num_words=20):\n",
    "    print(str(i)+\": \"+ topic)\n",
    "    print()"
   ]
  },
  {
   "cell_type": "code",
   "execution_count": 30,
   "metadata": {
    "scrolled": true
   },
   "outputs": [],
   "source": [
    "#print(data.Abstract.loc[0][:500])"
   ]
  },
  {
   "cell_type": "code",
   "execution_count": 31,
   "metadata": {},
   "outputs": [
    {
     "data": {
      "text/plain": [
       "[(0, 0.35258225), (4, 0.64692783)]"
      ]
     },
     "execution_count": 31,
     "metadata": {},
     "output_type": "execute_result"
    }
   ],
   "source": [
    "lda_model[corpus[0]]"
   ]
  },
  {
   "cell_type": "code",
   "execution_count": 32,
   "metadata": {},
   "outputs": [
    {
     "data": {
      "text/html": [
       "<div>\n",
       "<style scoped>\n",
       "    .dataframe tbody tr th:only-of-type {\n",
       "        vertical-align: middle;\n",
       "    }\n",
       "\n",
       "    .dataframe tbody tr th {\n",
       "        vertical-align: top;\n",
       "    }\n",
       "\n",
       "    .dataframe thead th {\n",
       "        text-align: right;\n",
       "    }\n",
       "</style>\n",
       "<table border=\"1\" class=\"dataframe\">\n",
       "  <thead>\n",
       "    <tr style=\"text-align: right;\">\n",
       "      <th></th>\n",
       "      <th>0</th>\n",
       "      <th>1</th>\n",
       "      <th>2</th>\n",
       "      <th>3</th>\n",
       "      <th>4</th>\n",
       "      <th>5</th>\n",
       "      <th>6</th>\n",
       "      <th>7</th>\n",
       "      <th>8</th>\n",
       "      <th>9</th>\n",
       "      <th>10</th>\n",
       "      <th>11</th>\n",
       "      <th>12</th>\n",
       "      <th>13</th>\n",
       "      <th>14</th>\n",
       "      <th>15</th>\n",
       "      <th>16</th>\n",
       "      <th>17</th>\n",
       "      <th>18</th>\n",
       "      <th>19</th>\n",
       "    </tr>\n",
       "  </thead>\n",
       "  <tbody>\n",
       "    <tr>\n",
       "      <th>0</th>\n",
       "      <td>NaN</td>\n",
       "      <td>NaN</td>\n",
       "      <td>NaN</td>\n",
       "      <td>NaN</td>\n",
       "      <td>NaN</td>\n",
       "      <td>NaN</td>\n",
       "      <td>NaN</td>\n",
       "      <td>NaN</td>\n",
       "      <td>NaN</td>\n",
       "      <td>0.0385366</td>\n",
       "      <td>NaN</td>\n",
       "      <td>NaN</td>\n",
       "      <td>NaN</td>\n",
       "      <td>NaN</td>\n",
       "      <td>NaN</td>\n",
       "      <td>0.0913012</td>\n",
       "      <td>NaN</td>\n",
       "      <td>NaN</td>\n",
       "      <td>0.869287</td>\n",
       "      <td>NaN</td>\n",
       "    </tr>\n",
       "  </tbody>\n",
       "</table>\n",
       "</div>"
      ],
      "text/plain": [
       "     0    1    2    3    4    5    6    7    8          9   10   11   12   13  \\\n",
       "0  NaN  NaN  NaN  NaN  NaN  NaN  NaN  NaN  NaN  0.0385366  NaN  NaN  NaN  NaN   \n",
       "\n",
       "    14         15   16   17        18   19  \n",
       "0  NaN  0.0913012  NaN  NaN  0.869287  NaN  "
      ]
     },
     "execution_count": 32,
     "metadata": {},
     "output_type": "execute_result"
    }
   ],
   "source": [
    "topics = [lda_model[corpus[i]] for i in range(len(data))]\n",
    "\n",
    "def topics_document_to_dataframe(topics_document, num_topics):\n",
    "    res = pd.DataFrame(columns=range(num_topics))\n",
    "    for topic_weight in topics_document:\n",
    "        res.loc[0, topic_weight[0]] = topic_weight[1]\n",
    "    return res\n",
    "\n",
    "topics_document_to_dataframe([(9, 0.03853655432967504), (15, 0.09130117862212643), (18, 0.8692868808484044)], 20)"
   ]
  },
  {
   "cell_type": "code",
   "execution_count": 33,
   "metadata": {},
   "outputs": [],
   "source": [
    "# Like TF-IDF, create a matrix of topic weighting, with documents as rows and topics as columns\n",
    "document_topic = \\\n",
    "pd.concat([topics_document_to_dataframe(topics_document, num_topics=num_topics) for topics_document in topics]) \\\n",
    "  .reset_index(drop=True).fillna(0)"
   ]
  },
  {
   "cell_type": "code",
   "execution_count": 34,
   "metadata": {},
   "outputs": [
    {
     "data": {
      "text/html": [
       "<div>\n",
       "<style scoped>\n",
       "    .dataframe tbody tr th:only-of-type {\n",
       "        vertical-align: middle;\n",
       "    }\n",
       "\n",
       "    .dataframe tbody tr th {\n",
       "        vertical-align: top;\n",
       "    }\n",
       "\n",
       "    .dataframe thead th {\n",
       "        text-align: right;\n",
       "    }\n",
       "</style>\n",
       "<table border=\"1\" class=\"dataframe\">\n",
       "  <thead>\n",
       "    <tr style=\"text-align: right;\">\n",
       "      <th></th>\n",
       "      <th>0</th>\n",
       "      <th>1</th>\n",
       "      <th>2</th>\n",
       "      <th>3</th>\n",
       "      <th>4</th>\n",
       "      <th>5</th>\n",
       "      <th>6</th>\n",
       "    </tr>\n",
       "  </thead>\n",
       "  <tbody>\n",
       "    <tr>\n",
       "      <th>0</th>\n",
       "      <td>0.352578</td>\n",
       "      <td>0.0</td>\n",
       "      <td>0.0</td>\n",
       "      <td>0.000000</td>\n",
       "      <td>0.646932</td>\n",
       "      <td>0.0</td>\n",
       "      <td>0.000000</td>\n",
       "    </tr>\n",
       "    <tr>\n",
       "      <th>1</th>\n",
       "      <td>0.000000</td>\n",
       "      <td>0.0</td>\n",
       "      <td>0.0</td>\n",
       "      <td>0.991513</td>\n",
       "      <td>0.000000</td>\n",
       "      <td>0.0</td>\n",
       "      <td>0.000000</td>\n",
       "    </tr>\n",
       "    <tr>\n",
       "      <th>2</th>\n",
       "      <td>0.992565</td>\n",
       "      <td>0.0</td>\n",
       "      <td>0.0</td>\n",
       "      <td>0.000000</td>\n",
       "      <td>0.000000</td>\n",
       "      <td>0.0</td>\n",
       "      <td>0.000000</td>\n",
       "    </tr>\n",
       "    <tr>\n",
       "      <th>3</th>\n",
       "      <td>0.000000</td>\n",
       "      <td>0.0</td>\n",
       "      <td>0.0</td>\n",
       "      <td>0.999179</td>\n",
       "      <td>0.000000</td>\n",
       "      <td>0.0</td>\n",
       "      <td>0.000000</td>\n",
       "    </tr>\n",
       "    <tr>\n",
       "      <th>4</th>\n",
       "      <td>0.000000</td>\n",
       "      <td>0.0</td>\n",
       "      <td>0.0</td>\n",
       "      <td>0.000000</td>\n",
       "      <td>0.000000</td>\n",
       "      <td>0.0</td>\n",
       "      <td>0.943924</td>\n",
       "    </tr>\n",
       "  </tbody>\n",
       "</table>\n",
       "</div>"
      ],
      "text/plain": [
       "          0    1    2         3         4    5         6\n",
       "0  0.352578  0.0  0.0  0.000000  0.646932  0.0  0.000000\n",
       "1  0.000000  0.0  0.0  0.991513  0.000000  0.0  0.000000\n",
       "2  0.992565  0.0  0.0  0.000000  0.000000  0.0  0.000000\n",
       "3  0.000000  0.0  0.0  0.999179  0.000000  0.0  0.000000\n",
       "4  0.000000  0.0  0.0  0.000000  0.000000  0.0  0.943924"
      ]
     },
     "execution_count": 34,
     "metadata": {},
     "output_type": "execute_result"
    }
   ],
   "source": [
    "document_topic.head()"
   ]
  },
  {
   "cell_type": "code",
   "execution_count": 35,
   "metadata": {},
   "outputs": [
    {
     "data": {
      "text/plain": [
       "3      0.999179\n",
       "147    0.999156\n",
       "151    0.999049\n",
       "10     0.998930\n",
       "99     0.998802\n",
       "101    0.998539\n",
       "32     0.998464\n",
       "91     0.998424\n",
       "140    0.998424\n",
       "135    0.998186\n",
       "89     0.997936\n",
       "129    0.997607\n",
       "132    0.997010\n",
       "63     0.997010\n",
       "1      0.991513\n",
       "137    0.601268\n",
       "82     0.508251\n",
       "31     0.507494\n",
       "68     0.414802\n",
       "83     0.386634\n",
       "Name: 3, dtype: float64"
      ]
     },
     "execution_count": 35,
     "metadata": {},
     "output_type": "execute_result"
    }
   ],
   "source": [
    "# Which document are about topic 14\n",
    "document_topic.sort_values(3, ascending=False)[3].head(20)"
   ]
  },
  {
   "cell_type": "code",
   "execution_count": 36,
   "metadata": {},
   "outputs": [
    {
     "data": {
      "text/plain": [
       "<matplotlib.axes._subplots.AxesSubplot at 0x1c0924c0>"
      ]
     },
     "execution_count": 36,
     "metadata": {},
     "output_type": "execute_result"
    },
    {
     "data": {
      "image/png": "[encoded data removed]",
      "text/plain": [
       "<Figure size 720x1440 with 2 Axes>"
      ]
     },
     "metadata": {},
     "output_type": "display_data"
    }
   ],
   "source": [
    "sns.set(rc={'figure.figsize':(10,20)})\n",
    "sns.heatmap(document_topic.loc[document_topic.idxmax(axis=1).sort_values().index])"
   ]
  },
  {
   "cell_type": "code",
   "execution_count": 37,
   "metadata": {},
   "outputs": [
    {
     "data": {
      "text/plain": [
       "<matplotlib.axes._subplots.AxesSubplot at 0x1c54ed00>"
      ]
     },
     "execution_count": 37,
     "metadata": {},
     "output_type": "execute_result"
    },
    {
     "data": {
      "image/png": "[encoded data removed]",
      "text/plain": [
       "<Figure size 720x360 with 1 Axes>"
      ]
     },
     "metadata": {},
     "output_type": "display_data"
    }
   ],
   "source": [
    "sns.set(rc={'figure.figsize':(10,5)})\n",
    "document_topic.idxmax(axis=1).value_counts().plot.bar(color='lightblue')"
   ]
  },
  {
   "cell_type": "code",
   "execution_count": 38,
   "metadata": {},
   "outputs": [
    {
     "data": {
      "text/html": [
       "\n",
       "<link rel=\"stylesheet\" type=\"text/css\" href=\"https://cdn.rawgit.com/bmabey/pyLDAvis/files/ldavis.v1.0.0.css\">\n",
       "\n",
       "\n",
       "<div id=\"ldavis_el103244734357448581659149\"></div>\n",
       "<script type=\"text/javascript\">\n",
       "\n",
       "var ldavis_el103244734357448581659149_data = {\"mdsDat\": {\"x\": [-0.005537183063339224, 0.04174333990957338, 0.01276250159126763, -0.08680380984994523, -0.001377059661583397, -0.1612312991728305, 0.20044351024685753], \"y\": [0.04577282090466461, 0.03482172378407394, 0.04951389369487699, 0.00467248996998859, 0.14122777891955104, -0.14956026251619223, -0.12644844475696315], \"topics\": [1, 2, 3, 4, 5, 6, 7], \"cluster\": [1, 1, 1, 1, 1, 1, 1], \"Freq\": [23.135984420776367, 17.958412170410156, 17.190288543701172, 12.747791290283203, 11.705626487731934, 8.858050346374512, 8.403850555419922]}, \"tinfo\": {\"Term\": [\"reputation\", \"web\", \"base\", \"approach\", \"performance\", \"fuzzy\", \"data\", \"capability\", \"abstract_available\", \"technique\", \"model\", \"cluster\", \"information\", \"wi\", \"internet\", \"customer\", \"tool\", \"agent\", \"word\", \"apply\", \"world_wide_web\", \"personalization\", \"different\", \"idea\", \"interaction\", \"present\", \"category\", \"ontology\", \"user\", \"environment\", \"abstract_available\", \"computational_part\", \"guide\", \"large_number\", \"brain_informatics_bi\", \"portal_technique\", \"aspect_web_intelligence\", \"human_intelligence\", \"bivalent_logic_probability\", \"precisiated_natural_language\", \"language\", \"filter_base\", \"stage\", \"relationship\", \"macro_micro\", \"author\", \"usually\", \"viewpoint\", \"researcher\", \"rough_set_theory\", \"profile\", \"good\", \"artificial_intelligence\", \"effective\", \"name\", \"fuzzy\", \"contain\", \"interactive\", \"html\", \"high\", \"wi\", \"page\", \"field\", \"web_intelligence\", \"system\", \"data_mining\", \"link\", \"web\", \"agent\", \"develop\", \"intelligent\", \"data\", \"research\", \"understanding\", \"web_page\", \"cluster\", \"ieee\", \"information\", \"knowledge\", \"base\", \"user\", \"application\", \"service\", \"algorithm\", \"web_intelligence_wi\", \"provide\", \"design\", \"problem\", \"model\", \"new\", \"facilitate\", \"server\", \"attention\", \"adaptive\", \"society\", \"control\", \"integrated\", \"processing\", \"electronic_commerce\", \"interface\", \"uncertainty\", \"cooperative\", \"finally\", \"user_profile\", \"granular\", \"global\", \"preliminary\", \"company\", \"probabilistic\", \"student\", \"today\", \"select\", \"best\", \"awareness\", \"efficient\", \"hierarchical\", \"next\", \"rough\", \"center\", \"believe\", \"centre\", \"web_intelligence_consortium\", \"currently\", \"distributed\", \"transaction\", \"special_focus\", \"semantic\", \"ontology\", \"generate\", \"web\", \"management\", \"semantic_web\", \"group\", \"conference\", \"base\", \"include\", \"research\", \"environment\", \"knowledge\", \"technology\", \"automatic\", \"web_intelligence\", \"system\", \"model\", \"technique\", \"document\", \"work\", \"process\", \"approach\", \"ieee\", \"information\", \"intelligent\", \"application\", \"service\", \"new\", \"data\", \"gather\", \"gain\", \"propose_method\", \"optimization\", \"novel\", \"full\", \"adapt\", \"adopt\", \"community\", \"highlight\", \"conceptual\", \"session\", \"track\", \"member\", \"obstacle\", \"opportunity\", \"follow\", \"range\", \"personal\", \"engine\", \"cover\", \"collection\", \"sense\", \"us\", \"paper_focus\", \"soft_computing\", \"due\", \"format\", \"characteristic\", \"business_goal\", \"automatically\", \"learn\", \"network\", \"information_retrieval\", \"user\", \"experimental_result\", \"approach\", \"structure\", \"market\", \"event\", \"information\", \"search\", \"query\", \"important\", \"discuss\", \"system\", \"web\", \"application\", \"study\", \"present\", \"set\", \"new\", \"agent\", \"build\", \"web_intelligence\", \"problem\", \"internet\", \"base\", \"challenge\", \"technology\", \"knowledge\", \"intelligent\", \"web_intelligence_wi\", \"service\", \"ontology\", \"central_task\", \"document_cluster\", \"logic_support\", \"hit_find\", \"address_another\", \"huge_stream\", \"environment_part\", \"environment_give\", \"unstructured_imprecise_deal\", \"search_engine_least\", \"motivation_web\", \"deduction_unstructured_imprecise\", \"exact_search\", \"two_main\", \"retrieve_thousand\", \"approximate_rather\", \"less_obvious\", \"challenging_problem\", \"query_user\", \"complex_information\", \"mode_reason\", \"information_imprecise_environment\", \"paper_first\", \"people\", \"especially\", \"outperform\", \"propose_new\", \"realize\", \"promise\", \"search_engine_present\", \"recommender_system\", \"product\", \"world_wide_web\", \"way\", \"describe\", \"grid\", \"new\", \"information\", \"search_engine\", \"model\", \"base\", \"internet\", \"application\", \"paper\", \"system\", \"provide\", \"web_intelligence\", \"problem\", \"intelligent\", \"develop\", \"customer\", \"part\", \"general\", \"data\", \"word\", \"web\", \"service\", \"various\", \"deal\", \"kind\", \"technology\", \"ieee\", \"technology_well\", \"present_excellent\", \"opportunity_challenge\", \"research_development_new\", \"generation_information_processing\", \"exploit_advanced\", \"augment\", \"actual\", \"public\", \"background\", \"web_intelligence_paper_describe\", \"individual_user\", \"efficiently_effectively\", \"allow_us\", \"security_web_intelligence\", \"often\", \"real_world_data\", \"commodity_recommendation\", \"improvement\", \"personalization\", \"powerful\", \"concern\", \"small\", \"individual\", \"publication\", \"benefit\", \"relevant\", \"application_berlin_heidelberg\", \"software_engineering\", \"right_time\", \"tool\", \"berlin_heidelberg\", \"customer\", \"data\", \"web\", \"model\", \"example\", \"recommendation\", \"view\", \"show\", \"provide\", \"web_intelligence_wi\", \"present\", \"various\", \"propose\", \"design\", \"web_intelligence\", \"analysis\", \"information\", \"user\", \"system\", \"technology\", \"application\", \"two\", \"challenge\", \"intelligence\", \"world_wide_web\", \"different\", \"intelligent\", \"ieee\", \"wi\", \"principal\", \"document_clustering\", \"assist\", \"standard\", \"category\", \"explore_topic\", \"research_activity\", \"compare\", \"variety\", \"assess\", \"consist\", \"performance\", \"add\", \"capability\", \"essential\", \"intelligent_agent\", \"play\", \"pnl\", \"metadata\", \"diverse\", \"site\", \"machine_translation\", \"useful\", \"academic_web\", \"popular\", \"second\", \"acquire\", \"simple\", \"exist\", \"ai\", \"experiment\", \"identify\", \"navigation\", \"cluster\", \"topic\", \"technique\", \"issue\", \"internet\", \"agent\", \"task\", \"different\", \"concept\", \"research\", \"word\", \"information\", \"system\", \"web_intelligence\", \"apply\", \"search_engine\", \"new\", \"application\", \"technology\", \"ieee\", \"web\", \"design\", \"social_economic\", \"quality_assessment\", \"impact_business\", \"customer_assurance\", \"century_powerful\", \"opinion_recommendation\", \"action_fraudulent\", \"service_unfair\", \"trading_bias\", \"capture_market\", \"feedback_buyer\", \"relationship_learn\", \"grow_development\", \"disseminate_customer\", \"reveal_dishonest\", \"reaction_product_service\", \"assessment_discriminatory\", \"system_foundation\", \"web_intelligence_future\", \"reputation_agent\", \"reputation\", \"paradigm\", \"knowledge_logistics\", \"drive\", \"consumer_behavior\", \"paper_attempt\", \"brief\", \"inspire\", \"behaviour\", \"intelligent_portal\", \"interaction\", \"direction\", \"business_intelligence\", \"perspective\", \"incorporate\", \"indicate\", \"idea\", \"approach\", \"base\", \"system\", \"knowledge\", \"environment\", \"information\", \"web\", \"ieee\", \"problem\", \"provide\", \"service\", \"present\", \"application\", \"analysis\", \"network\"], \"Freq\": [15.0, 169.0, 64.0, 39.0, 11.0, 25.0, 49.0, 12.0, 10.0, 29.0, 40.0, 16.0, 95.0, 20.0, 31.0, 14.0, 16.0, 36.0, 12.0, 15.0, 16.0, 8.0, 20.0, 13.0, 7.0, 21.0, 6.0, 18.0, 36.0, 15.0, 10.089747428894043, 3.0338664054870605, 3.0223891735076904, 2.9830353260040283, 2.979282855987549, 2.9679558277130127, 3.900926113128662, 3.900857448577881, 2.933694839477539, 2.9291584491729736, 8.637027740478516, 2.9160923957824707, 3.8520538806915283, 2.8757290840148926, 2.8687186241149902, 3.670125961303711, 3.6671247482299805, 2.693593740463257, 5.006468296051025, 2.5077505111694336, 3.242140531539917, 5.6389360427856445, 4.841848373413086, 4.801666259765625, 3.8800737857818604, 19.17970848083496, 3.8192336559295654, 3.019758701324463, 3.023932933807373, 2.9516773223876953, 13.828767776489258, 6.845912456512451, 6.1822075843811035, 36.52993392944336, 44.98789596557617, 8.583488464355469, 7.6600260734558105, 42.551883697509766, 14.205098152160645, 9.297262191772461, 14.26053524017334, 15.862777709960938, 11.584490776062012, 5.0244340896606445, 7.113424301147461, 7.064808368682861, 10.587573051452637, 17.2918758392334, 11.040799140930176, 13.403158187866211, 10.048473358154297, 11.445280075073242, 9.575226783752441, 7.5590996742248535, 6.826739311218262, 7.853947639465332, 7.134725093841553, 6.896485328674316, 7.172194004058838, 7.0516886711120605, 3.8763301372528076, 2.73734188079834, 3.3129708766937256, 4.7964186668396, 3.839606523513794, 3.809168815612793, 3.7786660194396973, 3.674614906311035, 2.8892574310302734, 5.756960391998291, 5.747848987579346, 2.8749165534973145, 2.865722417831421, 4.197068691253662, 3.4771969318389893, 4.871777534484863, 2.0599682331085205, 5.263603687286377, 2.653813123703003, 1.979941487312317, 1.9541096687316895, 1.9540718793869019, 1.9533427953720093, 1.9531514644622803, 1.9427900314331055, 1.9348493814468384, 1.916229486465454, 1.9251179695129395, 4.949245452880859, 1.9032448530197144, 3.5262627601623535, 2.9734299182891846, 2.973419189453125, 7.343081951141357, 2.985795497894287, 2.987847089767456, 5.364743232727051, 8.601195335388184, 3.882749080657959, 52.778316497802734, 6.225625514984131, 8.664753913879395, 5.356059551239014, 5.824287414550781, 17.24069595336914, 7.94634485244751, 9.831039428710938, 6.122654438018799, 10.28116226196289, 9.778092384338379, 5.13318395614624, 14.559393882751465, 16.115331649780273, 9.272418975830078, 7.818847179412842, 6.170683860778809, 5.531854152679443, 6.11071252822876, 7.071547985076904, 6.773539066314697, 7.845972061157227, 6.402285575866699, 6.611422538757324, 6.002684593200684, 6.051896572113037, 5.547416687011719, 2.862492084503174, 4.721495628356934, 3.762690305709839, 2.4869487285614014, 2.33659291267395, 2.9603710174560547, 3.6677472591400146, 2.9103548526763916, 6.486982345581055, 2.8803961277008057, 4.275883197784424, 2.7453181743621826, 2.7136757373809814, 4.663824558258057, 1.9964584112167358, 1.9685299396514893, 1.9772961139678955, 2.60121750831604, 1.962028980255127, 1.938449740409851, 1.9476394653320312, 1.9279555082321167, 1.9193607568740845, 1.9162648916244507, 1.9294248819351196, 1.9103933572769165, 3.7320756912231445, 1.8543732166290283, 3.623328924179077, 1.7734053134918213, 5.7015767097473145, 8.326754570007324, 10.717556953430176, 7.1252923011779785, 14.741536140441895, 2.89656138420105, 15.323044776916504, 7.724095821380615, 2.8571979999542236, 2.882453441619873, 25.668310165405273, 6.364217281341553, 6.3490118980407715, 4.839026927947998, 7.4168829917907715, 22.39849090576172, 26.283010482788086, 11.869706153869629, 5.447969436645508, 6.506277084350586, 4.490917682647705, 8.057720184326172, 7.505464553833008, 4.799633026123047, 10.630069732666016, 6.643129825592041, 6.825071334838867, 8.566497802734375, 5.15400505065918, 6.7718400955200195, 6.598694801330566, 6.540167331695557, 5.4234747886657715, 5.91766357421875, 5.023664474487305, 2.7743935585021973, 2.7491672039031982, 2.7418155670166016, 2.739570140838623, 2.7390542030334473, 2.7370214462280273, 2.736203908920288, 2.735222816467285, 2.7328262329101562, 2.731661796569824, 2.7271368503570557, 2.724736213684082, 2.723587989807129, 2.7201991081237793, 2.71990704536438, 2.719482183456421, 2.7181010246276855, 2.718111515045166, 2.717707872390747, 2.7165589332580566, 2.7138848304748535, 2.7063791751861572, 3.5930800437927246, 4.673656463623047, 1.9008691310882568, 1.870405673980713, 1.8543519973754883, 1.8384058475494385, 1.8494375944137573, 1.8305165767669678, 3.283479690551758, 2.7980055809020996, 7.373756408691406, 4.623499393463135, 7.056593894958496, 5.581364154815674, 11.306835174560547, 18.7730770111084, 6.907051086425781, 9.24282455444336, 10.663741111755371, 7.6269755363464355, 8.80032730102539, 6.2438883781433105, 11.023313522338867, 6.671889305114746, 9.719711303710938, 6.228862285614014, 6.9377665519714355, 5.286254405975342, 4.61458158493042, 4.152520179748535, 4.091807842254639, 6.202735424041748, 4.178112983703613, 8.595685005187988, 5.264001846313477, 4.41469669342041, 3.8197193145751953, 3.610119104385376, 4.829689025878906, 4.630331993103027, 3.799619436264038, 2.7993385791778564, 2.7993204593658447, 2.7992990016937256, 2.7993249893188477, 2.799325704574585, 2.7285561561584473, 2.8425989151000977, 2.8132853507995605, 1.9770126342773438, 1.9770087003707886, 1.9769881963729858, 1.9496954679489136, 1.9837883710861206, 1.9770113229751587, 1.9110807180404663, 1.945133924484253, 1.9392609596252441, 1.8842902183532715, 5.635806560516357, 1.8891066312789917, 1.8685177564620972, 1.8524813652038574, 1.8397083282470703, 2.960658073425293, 2.873551845550537, 1.7046148777008057, 1.5953395366668701, 2.0002894401550293, 2.002146005630493, 7.7989420890808105, 7.385400772094727, 5.8732733726501465, 14.871938705444336, 28.21406364440918, 10.61181354522705, 3.5025596618652344, 3.8708887100219727, 4.316023349761963, 3.8365445137023926, 7.354261875152588, 5.50402307510376, 5.706517696380615, 5.101609706878662, 4.8885955810546875, 5.713140964508057, 9.95126724243164, 4.830573558807373, 9.801410675048828, 6.075430870056152, 7.493955612182617, 5.321464538574219, 5.234554290771484, 3.975522041320801, 3.8804702758789062, 3.8869211673736572, 3.7386372089385986, 3.823319435119629, 4.2171783447265625, 4.018215179443359, 3.8133509159088135, 2.9186651706695557, 3.478764533996582, 2.474613666534424, 2.9548583030700684, 4.235986232757568, 3.4984519481658936, 1.9980900287628174, 3.995990037918091, 1.991062879562378, 2.003955125808716, 1.9750878810882568, 6.901365756988525, 1.895992398262024, 7.193556308746338, 1.7210041284561157, 3.402859687805176, 1.6027077436447144, 2.0943448543548584, 2.033132791519165, 2.0326082706451416, 2.0196101665496826, 2.02514910697937, 3.969424247741699, 3.0305607318878174, 2.00101375579834, 2.011094808578491, 1.5019499063491821, 1.9861583709716797, 2.438551902770996, 1.9694799184799194, 4.140079021453857, 3.3985788822174072, 3.0485122203826904, 5.569881439208984, 3.8125393390655518, 7.971639156341553, 5.03731107711792, 7.122760772705078, 7.088008880615234, 3.567417621612549, 4.974459648132324, 4.492536544799805, 5.88987398147583, 3.7051546573638916, 8.735931396484375, 9.314994812011719, 8.227499961853027, 3.9135706424713135, 3.9443397521972656, 4.464776515960693, 4.566497802734375, 3.8194923400878906, 3.740736246109009, 4.071896553039551, 3.5279345512390137, 2.7970714569091797, 2.788233518600464, 2.7817535400390625, 2.7812588214874268, 2.7751238346099854, 3.664236307144165, 3.654500961303711, 3.651515007019043, 3.6511316299438477, 3.6502695083618164, 3.6494572162628174, 3.6488516330718994, 3.646552562713623, 3.6442575454711914, 3.639665365219116, 3.6393423080444336, 3.6362786293029785, 2.7103147506713867, 2.7100777626037598, 2.6512632369995117, 11.717873573303223, 2.705601930618286, 1.946128249168396, 1.8669285774230957, 1.8534202575683594, 1.8452885150909424, 2.355682611465454, 1.7767287492752075, 1.7691370248794556, 1.7699817419052124, 4.0996413230896, 2.7053539752960205, 2.6917247772216797, 2.6533830165863037, 2.6046884059906006, 2.6142618656158447, 4.707411766052246, 8.466278076171875, 10.863868713378906, 10.165022850036621, 6.400262355804443, 4.153231620788574, 6.893060684204102, 7.3295793533325195, 4.733423709869385, 4.229196071624756, 3.912593126296997, 3.897512435913086, 3.646665096282959, 4.013027667999268, 3.0880041122436523, 2.975497245788574], \"Total\": [15.0, 169.0, 64.0, 39.0, 11.0, 25.0, 49.0, 12.0, 10.0, 29.0, 40.0, 16.0, 95.0, 20.0, 31.0, 14.0, 16.0, 36.0, 12.0, 15.0, 16.0, 8.0, 20.0, 13.0, 7.0, 21.0, 6.0, 18.0, 36.0, 15.0, 10.148913383483887, 3.093032121658325, 3.09295916557312, 3.091991424560547, 3.092500686645508, 3.0925636291503906, 4.094586372375488, 4.098480701446533, 3.0894999504089355, 3.089674949645996, 9.13002872467041, 3.0924744606018066, 4.09759521484375, 3.0897316932678223, 3.089797258377075, 4.090360164642334, 4.0900163650512695, 3.094062328338623, 6.091631889343262, 3.086665630340576, 4.072549343109131, 7.089969158172607, 6.091063022613525, 6.087660789489746, 5.048704147338867, 25.125045776367188, 5.081714630126953, 4.076608180999756, 4.105200290679932, 4.07388973236084, 20.088171005249023, 10.008965492248535, 9.055858612060547, 91.59864807128906, 121.49900817871094, 15.049262046813965, 13.109903335571289, 169.82443237304688, 36.088226318359375, 19.83612060546875, 40.71266555786133, 49.58952331542969, 34.97891616821289, 8.084699630737305, 15.931130409240723, 16.087284088134766, 35.70820617675781, 95.00963592529297, 41.68912887573242, 64.16047668457031, 36.911861419677734, 52.54081344604492, 34.69928741455078, 24.846981048583984, 20.020776748657227, 32.57630157470703, 25.902328491210938, 28.689929962158203, 40.333683013916016, 40.4676628112793, 4.020500659942627, 3.0331621170043945, 4.016791343688965, 6.012613773345947, 5.021720886230469, 5.00046443939209, 5.00300931930542, 5.01607608795166, 3.9843223094940186, 7.993553638458252, 8.010567665100098, 4.016070365905762, 4.01300048828125, 6.023430824279785, 4.995334625244141, 7.00006628036499, 3.046142101287842, 7.992644786834717, 4.0439839363098145, 3.05267333984375, 3.0480268001556396, 3.052278757095337, 3.055696725845337, 3.056816577911377, 3.0567171573638916, 3.052703380584717, 3.028590440750122, 3.0492725372314453, 7.924281597137451, 3.0520315170288086, 5.9762420654296875, 4.962551593780518, 4.962900161743164, 13.92636775970459, 5.019922733306885, 5.031951904296875, 10.029539108276367, 18.0106201171875, 7.020603179931641, 169.82443237304688, 12.90432357788086, 20.802135467529297, 10.984092712402344, 12.991342544555664, 64.16047668457031, 21.946229934692383, 34.97891616821289, 15.875330924987793, 41.68912887573242, 38.688602447509766, 11.987992286682129, 91.59864807128906, 121.49900817871094, 40.333683013916016, 29.90454864501953, 17.809646606445312, 13.958796501159668, 21.879981994628906, 39.73854446411133, 35.70820617675781, 95.00963592529297, 40.71266555786133, 52.54081344604492, 34.69928741455078, 40.4676628112793, 49.58952331542969, 3.0760300159454346, 5.077255725860596, 4.077539443969727, 3.0710058212280273, 3.064924955368042, 4.027935028076172, 5.064558506011963, 4.031535625457764, 9.049659729003906, 4.0569539070129395, 6.04884147644043, 4.020610332489014, 4.083075046539307, 7.04707670211792, 3.0551679134368896, 3.0277891159057617, 3.0819289684295654, 4.083378791809082, 3.0866355895996094, 3.053163528442383, 3.0825507640838623, 3.061910629272461, 3.062251567840576, 3.0619518756866455, 3.087006092071533, 3.0851967334747314, 6.053873062133789, 3.0558664798736572, 6.035272598266602, 3.0165188312530518, 10.022101402282715, 16.0041561126709, 23.96453094482422, 15.077037811279297, 36.911861419677734, 5.069929122924805, 39.73854446411133, 17.03066062927246, 5.043903827667236, 5.1020050048828125, 95.00963592529297, 14.9752197265625, 16.08051109313965, 11.014554977416992, 20.96697235107422, 121.49900817871094, 169.82443237304688, 52.54081344604492, 15.08155345916748, 21.94375228881836, 11.017925262451172, 40.4676628112793, 36.088226318359375, 12.869600296020508, 91.59864807128906, 28.689929962158203, 31.697900772094727, 64.16047668457031, 15.912354469299316, 38.688602447509766, 41.68912887573242, 40.71266555786133, 20.020776748657227, 34.69928741455078, 18.0106201171875, 2.922053575515747, 2.924678325653076, 2.923982620239258, 2.9247007369995117, 2.9246368408203125, 2.9248733520507812, 2.924543857574463, 2.9245364665985107, 2.9246973991394043, 2.924959659576416, 2.9249563217163086, 2.925079584121704, 2.925328016281128, 2.9252989292144775, 2.925487995147705, 2.925459146499634, 2.9253041744232178, 2.925426483154297, 2.9252524375915527, 2.9257256984710693, 2.9259376525878906, 2.9258902072906494, 4.888631343841553, 6.8433356285095215, 2.953186511993408, 2.9790830612182617, 2.960867404937744, 2.9564268589019775, 2.9844536781311035, 2.955876111984253, 5.8667893409729, 4.936636447906494, 16.629331588745117, 9.822647094726562, 17.692134857177734, 13.750319480895996, 40.4676628112793, 95.00963592529297, 21.75051498413086, 40.333683013916016, 64.16047668457031, 31.697900772094727, 52.54081344604492, 24.6929874420166, 121.49900817871094, 32.57630157470703, 91.59864807128906, 28.689929962158203, 40.71266555786133, 19.83612060546875, 14.69970417022705, 10.852718353271484, 10.787833213806152, 49.58952331542969, 12.913185119628906, 169.82443237304688, 34.69928741455078, 18.72222328186035, 10.820385932922363, 8.86764144897461, 38.688602447509766, 35.70820617675781, 4.0066022872924805, 3.0232930183410645, 3.0232889652252197, 3.0232675075531006, 3.023296594619751, 3.0232973098754883, 3.0189878940582275, 3.9745774269104004, 4.005521774291992, 2.986302137374878, 3.015371322631836, 3.0205752849578857, 2.986616373062134, 3.0390872955322266, 3.0398366451263428, 2.9858319759368896, 3.04455828666687, 3.0476815700531006, 2.9878714084625244, 8.97407054901123, 3.0440332889556885, 3.0470433235168457, 3.0352821350097656, 3.0241823196411133, 5.04335880279541, 4.979860782623291, 3.022984266281128, 3.0496654510498047, 3.9745590686798096, 4.011870384216309, 16.943178176879883, 18.916358947753906, 14.69970417022705, 49.58952331542969, 169.82443237304688, 40.333683013916016, 7.972894191741943, 9.935967445373535, 11.94530200958252, 9.912553787231445, 32.57630157470703, 20.020776748657227, 21.94375228881836, 18.72222328186035, 17.80423927307129, 25.902328491210938, 91.59864807128906, 19.923919677734375, 95.00963592529297, 36.911861419677734, 121.49900817871094, 38.688602447509766, 52.54081344604492, 16.889835357666016, 15.912354469299316, 17.918922424316406, 16.629331588745117, 20.062108993530273, 40.71266555786133, 35.70820617675781, 20.088171005249023, 3.1023478507995605, 4.084701061248779, 3.071035385131836, 4.091455936431885, 6.125880718231201, 5.123872756958008, 3.043365955352783, 6.107091903686523, 3.0436766147613525, 3.0813755989074707, 3.0807838439941406, 11.13107967376709, 3.073310136795044, 12.06387996673584, 3.0642666816711426, 6.1068220138549805, 3.096444606781006, 4.099663734436035, 4.029563903808594, 4.069393157958984, 4.047136306762695, 4.080853462219238, 8.02134895324707, 6.128558158874512, 4.060467720031738, 4.0838942527771, 3.0809760093688965, 4.087933540344238, 5.031878471374512, 4.0842719078063965, 10.043882369995117, 8.055377006530762, 7.07572603225708, 16.087284088134766, 10.138955116271973, 29.90454864501953, 16.08293914794922, 31.697900772094727, 36.088226318359375, 10.98169994354248, 20.062108993530273, 17.967342376708984, 34.97891616821289, 12.913185119628906, 95.00963592529297, 121.49900817871094, 91.59864807128906, 15.888836860656738, 21.75051498413086, 40.4676628112793, 52.54081344604492, 38.688602447509766, 35.70820617675781, 169.82443237304688, 25.902328491210938, 3.0110507011413574, 3.011388063430786, 3.011660575866699, 3.011608123779297, 3.011850118637085, 3.9909472465515137, 3.9913177490234375, 3.9913883209228516, 3.9913957118988037, 3.9914400577545166, 3.9914398193359375, 3.9914655685424805, 3.9915175437927246, 3.9915947914123535, 3.9917962551116943, 3.9917826652526855, 3.9919371604919434, 3.010890245437622, 3.010958433151245, 3.01375150680542, 15.782262802124023, 4.009365081787109, 3.0315442085266113, 2.9798295497894287, 3.0185017585754395, 3.0359580516815186, 4.02247428894043, 3.039637565612793, 3.036569118499756, 3.03849458694458, 7.93886661529541, 5.0059967041015625, 5.020374298095703, 5.023127555847168, 4.990397930145264, 5.032889366149902, 13.877310752868652, 39.73854446411133, 64.16047668457031, 121.49900817871094, 41.68912887573242, 15.875330924987793, 95.00963592529297, 169.82443237304688, 35.70820617675781, 28.689929962158203, 32.57630157470703, 34.69928741455078, 21.94375228881836, 52.54081344604492, 19.923919677734375, 23.96453094482422], \"Category\": [\"Default\", \"Default\", \"Default\", \"Default\", \"Default\", \"Default\", \"Default\", \"Default\", \"Default\", \"Default\", \"Default\", \"Default\", \"Default\", \"Default\", \"Default\", \"Default\", \"Default\", \"Default\", \"Default\", \"Default\", \"Default\", \"Default\", \"Default\", \"Default\", \"Default\", \"Default\", \"Default\", \"Default\", \"Default\", \"Default\", \"Topic1\", \"Topic1\", \"Topic1\", \"Topic1\", \"Topic1\", \"Topic1\", \"Topic1\", \"Topic1\", \"Topic1\", \"Topic1\", \"Topic1\", \"Topic1\", \"Topic1\", \"Topic1\", \"Topic1\", \"Topic1\", \"Topic1\", \"Topic1\", \"Topic1\", \"Topic1\", \"Topic1\", \"Topic1\", \"Topic1\", \"Topic1\", \"Topic1\", \"Topic1\", \"Topic1\", \"Topic1\", \"Topic1\", \"Topic1\", \"Topic1\", \"Topic1\", \"Topic1\", \"Topic1\", \"Topic1\", \"Topic1\", \"Topic1\", \"Topic1\", \"Topic1\", \"Topic1\", \"Topic1\", \"Topic1\", \"Topic1\", \"Topic1\", \"Topic1\", \"Topic1\", \"Topic1\", \"Topic1\", \"Topic1\", \"Topic1\", \"Topic1\", \"Topic1\", \"Topic1\", \"Topic1\", \"Topic1\", \"Topic1\", \"Topic1\", \"Topic1\", \"Topic1\", \"Topic1\", \"Topic2\", \"Topic2\", \"Topic2\", \"Topic2\", \"Topic2\", \"Topic2\", \"Topic2\", \"Topic2\", \"Topic2\", \"Topic2\", \"Topic2\", \"Topic2\", \"Topic2\", \"Topic2\", \"Topic2\", \"Topic2\", \"Topic2\", \"Topic2\", \"Topic2\", \"Topic2\", \"Topic2\", \"Topic2\", \"Topic2\", \"Topic2\", \"Topic2\", \"Topic2\", \"Topic2\", \"Topic2\", \"Topic2\", \"Topic2\", \"Topic2\", \"Topic2\", \"Topic2\", \"Topic2\", \"Topic2\", \"Topic2\", \"Topic2\", \"Topic2\", \"Topic2\", \"Topic2\", \"Topic2\", \"Topic2\", \"Topic2\", \"Topic2\", \"Topic2\", \"Topic2\", \"Topic2\", \"Topic2\", \"Topic2\", \"Topic2\", \"Topic2\", \"Topic2\", \"Topic2\", \"Topic2\", \"Topic2\", \"Topic2\", \"Topic2\", \"Topic2\", \"Topic2\", \"Topic2\", \"Topic2\", \"Topic2\", \"Topic2\", \"Topic2\", \"Topic2\", \"Topic2\", \"Topic3\", \"Topic3\", \"Topic3\", \"Topic3\", \"Topic3\", \"Topic3\", \"Topic3\", \"Topic3\", \"Topic3\", \"Topic3\", \"Topic3\", \"Topic3\", \"Topic3\", \"Topic3\", \"Topic3\", \"Topic3\", \"Topic3\", \"Topic3\", \"Topic3\", \"Topic3\", \"Topic3\", \"Topic3\", \"Topic3\", \"Topic3\", \"Topic3\", \"Topic3\", \"Topic3\", \"Topic3\", \"Topic3\", \"Topic3\", \"Topic3\", \"Topic3\", \"Topic3\", \"Topic3\", \"Topic3\", \"Topic3\", \"Topic3\", \"Topic3\", \"Topic3\", \"Topic3\", \"Topic3\", \"Topic3\", \"Topic3\", \"Topic3\", \"Topic3\", \"Topic3\", \"Topic3\", \"Topic3\", \"Topic3\", \"Topic3\", \"Topic3\", \"Topic3\", \"Topic3\", \"Topic3\", \"Topic3\", \"Topic3\", \"Topic3\", \"Topic3\", \"Topic3\", \"Topic3\", \"Topic3\", \"Topic3\", \"Topic3\", \"Topic3\", \"Topic3\", \"Topic4\", \"Topic4\", \"Topic4\", \"Topic4\", \"Topic4\", \"Topic4\", \"Topic4\", \"Topic4\", \"Topic4\", \"Topic4\", \"Topic4\", \"Topic4\", \"Topic4\", \"Topic4\", \"Topic4\", \"Topic4\", \"Topic4\", \"Topic4\", \"Topic4\", \"Topic4\", \"Topic4\", \"Topic4\", \"Topic4\", \"Topic4\", \"Topic4\", \"Topic4\", \"Topic4\", \"Topic4\", \"Topic4\", \"Topic4\", \"Topic4\", \"Topic4\", \"Topic4\", \"Topic4\", \"Topic4\", \"Topic4\", \"Topic4\", \"Topic4\", \"Topic4\", \"Topic4\", \"Topic4\", \"Topic4\", \"Topic4\", \"Topic4\", \"Topic4\", \"Topic4\", \"Topic4\", \"Topic4\", \"Topic4\", \"Topic4\", \"Topic4\", \"Topic4\", \"Topic4\", \"Topic4\", \"Topic4\", \"Topic4\", \"Topic4\", \"Topic4\", \"Topic4\", \"Topic4\", \"Topic4\", \"Topic4\", \"Topic5\", \"Topic5\", \"Topic5\", \"Topic5\", \"Topic5\", \"Topic5\", \"Topic5\", \"Topic5\", \"Topic5\", \"Topic5\", \"Topic5\", \"Topic5\", \"Topic5\", \"Topic5\", \"Topic5\", \"Topic5\", \"Topic5\", \"Topic5\", \"Topic5\", \"Topic5\", \"Topic5\", \"Topic5\", \"Topic5\", \"Topic5\", \"Topic5\", \"Topic5\", \"Topic5\", \"Topic5\", \"Topic5\", \"Topic5\", \"Topic5\", \"Topic5\", \"Topic5\", \"Topic5\", \"Topic5\", \"Topic5\", \"Topic5\", \"Topic5\", \"Topic5\", \"Topic5\", \"Topic5\", \"Topic5\", \"Topic5\", \"Topic5\", \"Topic5\", \"Topic5\", \"Topic5\", \"Topic5\", \"Topic5\", \"Topic5\", \"Topic5\", \"Topic5\", \"Topic5\", \"Topic5\", \"Topic5\", \"Topic5\", \"Topic5\", \"Topic5\", \"Topic5\", \"Topic5\", \"Topic5\", \"Topic6\", \"Topic6\", \"Topic6\", \"Topic6\", \"Topic6\", \"Topic6\", \"Topic6\", \"Topic6\", \"Topic6\", \"Topic6\", \"Topic6\", \"Topic6\", \"Topic6\", \"Topic6\", \"Topic6\", \"Topic6\", \"Topic6\", \"Topic6\", \"Topic6\", \"Topic6\", \"Topic6\", \"Topic6\", \"Topic6\", \"Topic6\", \"Topic6\", \"Topic6\", \"Topic6\", \"Topic6\", \"Topic6\", \"Topic6\", \"Topic6\", \"Topic6\", \"Topic6\", \"Topic6\", \"Topic6\", \"Topic6\", \"Topic6\", \"Topic6\", \"Topic6\", \"Topic6\", \"Topic6\", \"Topic6\", \"Topic6\", \"Topic6\", \"Topic6\", \"Topic6\", \"Topic6\", \"Topic6\", \"Topic6\", \"Topic6\", \"Topic6\", \"Topic6\", \"Topic6\", \"Topic6\", \"Topic6\", \"Topic7\", \"Topic7\", \"Topic7\", \"Topic7\", \"Topic7\", \"Topic7\", \"Topic7\", \"Topic7\", \"Topic7\", \"Topic7\", \"Topic7\", \"Topic7\", \"Topic7\", \"Topic7\", \"Topic7\", \"Topic7\", \"Topic7\", \"Topic7\", \"Topic7\", \"Topic7\", \"Topic7\", \"Topic7\", \"Topic7\", \"Topic7\", \"Topic7\", \"Topic7\", \"Topic7\", \"Topic7\", \"Topic7\", \"Topic7\", \"Topic7\", \"Topic7\", \"Topic7\", \"Topic7\", \"Topic7\", \"Topic7\", \"Topic7\", \"Topic7\", \"Topic7\", \"Topic7\", \"Topic7\", \"Topic7\", \"Topic7\", \"Topic7\", \"Topic7\", \"Topic7\", \"Topic7\", \"Topic7\", \"Topic7\", \"Topic7\", \"Topic7\", \"Topic7\"], \"logprob\": [30.0, 29.0, 28.0, 27.0, 26.0, 25.0, 24.0, 23.0, 22.0, 21.0, 20.0, 19.0, 18.0, 17.0, 16.0, 15.0, 14.0, 13.0, 12.0, 11.0, 10.0, 9.0, 8.0, 7.0, 6.0, 5.0, 4.0, 3.0, 2.0, 1.0, -4.846799850463867, -6.048500061035156, -6.052299976348877, -6.065400123596191, -6.0665998458862305, -6.070400238037109, -5.797100067138672, -5.797100067138672, -6.081999778747559, -6.083600044250488, -5.002299785614014, -6.088099956512451, -5.809700012207031, -6.1020002365112305, -6.104400157928467, -5.858099937438965, -5.85890007019043, -6.167399883270264, -5.547599792480469, -6.238900184631348, -5.982100009918213, -5.428599834442139, -5.580999851226807, -5.589300155639648, -5.802499771118164, -4.204500198364258, -5.818299770355225, -6.053100109100342, -6.051799774169922, -6.075900077819824, -4.531599998474121, -5.2347002029418945, -5.336599826812744, -3.5601999759674072, -3.351900100708008, -5.008500099182129, -5.122300148010254, -3.407599925994873, -4.504700183868408, -4.928599834442139, -4.500800132751465, -4.3942999839782715, -4.708600044250488, -5.544000148773193, -5.196300029754639, -5.203199863433838, -4.798600196838379, -4.30810022354126, -4.756700038909912, -4.56279993057251, -4.850900173187256, -4.720699787139893, -4.899099826812744, -5.1356000900268555, -5.237500190734863, -5.097300052642822, -5.193299770355225, -5.22730016708374, -5.1880998611450195, -5.204999923706055, -5.550099849700928, -5.8979997634887695, -5.707099914550781, -5.337100028991699, -5.559599876403809, -5.567599773406982, -5.5756001472473145, -5.603499889373779, -5.843999862670898, -5.154600143432617, -5.156199932098389, -5.848999977111816, -5.852200031280518, -5.470600128173828, -5.65880012512207, -5.321499824523926, -6.182300090789795, -5.244200229644775, -5.928999900817871, -6.22189998626709, -6.235000133514404, -6.235099792480469, -6.235400199890137, -6.235499858856201, -6.240900039672852, -6.244999885559082, -6.2546000480651855, -6.25, -5.305699825286865, -6.26140022277832, -5.644700050354004, -5.815299987792969, -5.815299987792969, -4.911200046539307, -5.811100006103516, -5.810400009155273, -5.225100040435791, -4.7530999183654785, -5.548399925231934, -2.9388999938964844, -5.076300144195557, -4.745699882507324, -5.226799964904785, -5.142899990081787, -4.057700157165527, -4.832300186157227, -4.6194000244140625, -5.0929999351501465, -4.574699878692627, -4.624800205230713, -5.2692999839782715, -4.2266998291015625, -4.125199794769287, -4.6778998374938965, -4.848400115966797, -5.08519983291626, -5.194499969482422, -5.094900131225586, -4.94890022277832, -4.992000102996826, -4.84499979019165, -5.048299789428711, -5.016200065612793, -5.112800121307373, -5.104599952697754, -5.1915998458862305, -5.809599876403809, -5.309100151062012, -5.536099910736084, -5.950200080871582, -6.012599945068359, -5.776000022888184, -5.561699867248535, -5.793000221252441, -4.991499900817871, -5.803299903869629, -5.408299922943115, -5.851399898529053, -5.86299991607666, -5.321400165557861, -6.169899940490723, -6.184000015258789, -6.179500102996826, -5.905300140380859, -6.187300205230713, -6.199399948120117, -6.1946001052856445, -6.204800128936768, -6.2093000411987305, -6.210899829864502, -6.203999996185303, -6.214000225067139, -5.544300079345703, -6.24370002746582, -5.57390022277832, -6.288400173187256, -5.120500087738037, -4.741799831390381, -4.4893999099731445, -4.897600173950195, -4.170599937438965, -5.797699928283691, -4.131899833679199, -4.81689977645874, -5.811399936676025, -5.802599906921387, -3.615999937057495, -5.0106000900268555, -5.013000011444092, -5.284599781036377, -4.857500076293945, -3.7523000240325928, -3.5922999382019043, -4.38730001449585, -5.165999889373779, -4.988500118255615, -5.3592000007629395, -4.774600028991699, -4.845600128173828, -5.292699813842773, -4.497600078582764, -4.967700004577637, -4.940700054168701, -4.713399887084961, -5.221499919891357, -4.948500156402588, -4.974400043487549, -4.98330020904541, -5.170499801635742, -5.0833001136779785, -5.247099876403809, -5.541800022125244, -5.551000118255615, -5.553699970245361, -5.554500102996826, -5.554699897766113, -5.5553998947143555, -5.555699825286865, -5.556099891662598, -5.5569000244140625, -5.557400226593018, -5.559000015258789, -5.559899806976318, -5.560299873352051, -5.561600208282471, -5.561699867248535, -5.561800003051758, -5.562300205230713, -5.562300205230713, -5.5625, -5.562900066375732, -5.563899993896484, -5.566699981689453, -5.283299922943115, -5.020299911499023, -5.920000076293945, -5.936100006103516, -5.944699764251709, -5.953400135040283, -5.947400093078613, -5.957699775695801, -5.3734002113342285, -5.533400058746338, -4.5644001960754395, -5.031099796295166, -4.60830020904541, -4.842800140380859, -4.136899948120117, -3.6298999786376953, -4.629700183868408, -4.338399887084961, -4.195400238037109, -4.530600070953369, -4.387499809265137, -4.7307000160217285, -4.162300109863281, -4.664400100708008, -4.288099765777588, -4.733099937438965, -4.62529993057251, -4.897200107574463, -5.033100128173828, -5.138599872589111, -5.153299808502197, -4.737299919128418, -5.132400035858154, -4.410999774932861, -4.901400089263916, -5.077300071716309, -5.222099781036377, -5.278500080108643, -4.987500190734863, -5.029699802398682, -5.142099857330322, -5.4475998878479, -5.4475998878479, -5.4475998878479, -5.4475998878479, -5.4475998878479, -5.473199844360352, -5.432300090789795, -5.442599773406982, -5.795400142669678, -5.795400142669678, -5.795400142669678, -5.809299945831299, -5.791999816894531, -5.795400142669678, -5.8292999267578125, -5.811699867248535, -5.814700126647949, -5.843400001525879, -4.747900009155273, -5.84089994430542, -5.851799964904785, -5.860499858856201, -5.867400169372559, -5.391600131988525, -5.42140007019043, -5.943699836730957, -6.009900093078613, -5.783699989318848, -5.782800197601318, -4.422999858856201, -4.477499961853027, -4.706600189208984, -3.7774999141693115, -3.137200117111206, -4.114999771118164, -5.223499774932861, -5.123499870300293, -5.014699935913086, -5.132400035858154, -4.4816999435424805, -4.771500110626221, -4.735400199890137, -4.847400188446045, -4.890100002288818, -4.7342000007629395, -4.179299831390381, -4.9019999504089355, -4.194499969482422, -4.672699928283691, -4.462900161743164, -4.805200099945068, -4.821700096130371, -5.096799850463867, -5.120999813079834, -5.1194000244140625, -5.158299922943115, -5.135900020599365, -5.037799835205078, -5.08620023727417, -5.138500213623047, -5.127099990844727, -4.951600074768066, -5.292200088500977, -5.114799976348877, -4.7546000480651855, -4.945899963378906, -5.506100177764893, -4.813000202178955, -5.5096001625061035, -5.5030999183654785, -5.517600059509277, -4.266499996185303, -5.558499813079834, -4.225100040435791, -5.655300140380859, -4.973599910736084, -5.726600170135498, -5.459000110626221, -5.488699913024902, -5.488900184631348, -5.495299816131592, -5.492599964141846, -4.8196001052856445, -5.0894999504089355, -5.5046000480651855, -5.499599933624268, -5.791500091552734, -5.51200008392334, -5.30679988861084, -5.520500183105469, -4.777500152587891, -4.974899768829346, -5.083600044250488, -4.480899810791016, -4.860000133514404, -4.122399806976318, -4.581399917602539, -4.235000133514404, -4.239799976348877, -4.926400184631348, -4.593900203704834, -4.695799827575684, -4.425000190734863, -4.888500213623047, -4.030799865722656, -3.966599941253662, -4.090799808502197, -4.833799839019775, -4.826000213623047, -4.702000141143799, -4.679500102996826, -4.858099937438965, -4.879000186920166, -4.794099807739258, -4.9375, -5.117000102996826, -5.120200157165527, -5.122499942779541, -5.122700214385986, -5.124899864196777, -4.8470001220703125, -4.849699974060059, -4.850500106811523, -4.850599765777588, -4.850800037384033, -4.85099983215332, -4.851200103759766, -4.851799964904785, -4.852499961853027, -4.853700160980225, -4.853799819946289, -4.854700088500977, -5.148499965667725, -5.148600101470947, -5.170599937438965, -3.684499979019165, -5.150300025939941, -5.479800224304199, -5.521299839019775, -5.528600215911865, -5.5329999923706055, -5.28879976272583, -5.570799827575684, -5.575099945068359, -5.5746002197265625, -4.7347002029418945, -5.150400161743164, -5.155399799346924, -5.1697998046875, -5.188300132751465, -5.184599876403809, -4.596499919891357, -4.009500026702881, -3.760200023651123, -3.82669997215271, -4.289299964904785, -4.721700191497803, -4.215099811553955, -4.15369987487793, -4.591000080108643, -4.70359992980957, -4.781400203704834, -4.785299777984619, -4.851799964904785, -4.756100177764893, -5.018099784851074, -5.055200099945068], \"loglift\": [30.0, 29.0, 28.0, 27.0, 26.0, 25.0, 24.0, 23.0, 22.0, 21.0, 20.0, 19.0, 18.0, 17.0, 16.0, 15.0, 14.0, 13.0, 12.0, 11.0, 10.0, 9.0, 8.0, 7.0, 6.0, 5.0, 4.0, 3.0, 2.0, 1.0, 1.457900047302246, 1.4444999694824219, 1.4407000541687012, 1.427899956703186, 1.4264999628067017, 1.422700047492981, 1.4153000116348267, 1.4143999814987183, 1.4119999408721924, 1.4104000329971313, 1.4083000421524048, 1.4050999879837036, 1.4019999504089355, 1.3919999599456787, 1.3895000219345093, 1.3553999662399292, 1.354599952697754, 1.3251999616622925, 1.2676000595092773, 1.256100058555603, 1.235700011253357, 1.2347999811172485, 1.2343000173568726, 1.2265000343322754, 1.2005000114440918, 1.1937999725341797, 1.1782000064849854, 1.163699984550476, 1.1581000089645386, 1.1416000127792358, 1.090399980545044, 1.0839999914169312, 1.0820000171661377, 0.5444999933242798, 0.47029998898506165, 0.9023000001907349, 0.9264000058174133, 0.07970000058412552, 0.5314000248908997, 0.7059999704360962, 0.4147000014781952, 0.3240000009536743, 0.3587000072002411, 0.988099992275238, 0.6575000286102295, 0.6409000158309937, 0.24809999763965607, -0.23999999463558197, 0.13510000705718994, -0.10209999978542328, 0.16269999742507935, -0.06019999831914902, 0.1762000024318695, 0.27379998564720154, 0.3878999948501587, 0.041200000792741776, 0.17440000176429749, 0.03819999843835831, -0.2632000148296356, -0.28349998593330383, 1.6806000471115112, 1.6145000457763672, 1.5245000123977661, 1.4910999536514282, 1.448699951171875, 1.4450000524520874, 1.436400055885315, 1.405900001525879, 1.3956999778747559, 1.3889000415802002, 1.385200023651123, 1.3827999830245972, 1.3803999423980713, 1.3558000326156616, 1.3547999858856201, 1.354699969291687, 1.3258999586105347, 1.299399971961975, 1.2958999872207642, 1.2841999530792236, 1.2726000547409058, 1.2711000442504883, 1.2696000337600708, 1.2691999673843384, 1.2639000415802002, 1.2611000537872314, 1.2594000101089478, 1.257200002670288, 1.246399998664856, 1.2448999881744385, 1.1895999908447266, 1.2049000263214111, 1.204800009727478, 1.0771000385284424, 1.19760000705719, 1.1958999633789062, 1.0914000272750854, 0.9781000018119812, 1.1247999668121338, 0.5483999848365784, 0.9882000088691711, 0.8413000106811523, 0.9988999962806702, 0.914900004863739, 0.40299999713897705, 0.701200008392334, 0.4478999972343445, 0.7642999887466431, 0.3172000050544739, 0.3416999876499176, 0.8689000010490417, -0.12210000306367874, -0.30300000309944153, 0.24699999392032623, 0.37560001015663147, 0.6571999788284302, 0.7914999723434448, 0.4415999948978424, -0.009100000374019146, 0.05480000004172325, -0.7768999934196472, -0.13279999792575836, -0.35569998621940613, -0.03739999979734421, -0.18299999833106995, -0.4733000099658966, 1.6888999938964844, 1.6881999969482422, 1.6805000305175781, 1.5499000549316406, 1.4895000457763672, 1.4529000520706177, 1.438099980354309, 1.434999942779541, 1.427899956703186, 1.4183000326156616, 1.4139000177383423, 1.3792999982833862, 1.3523000478744507, 1.3480000495910645, 1.3353999853134155, 1.330299973487854, 1.3170000314712524, 1.3099000453948975, 1.3077000379562378, 1.30649995803833, 1.3016999959945679, 1.298200011253357, 1.2936999797821045, 1.292199969291687, 1.2907999753952026, 1.281499981880188, 1.2770999670028687, 1.261299967765808, 1.250599980354309, 1.229599952697754, 1.1967999935150146, 1.1074999570846558, 0.9560999870300293, 1.011299967765808, 0.8429999947547913, 1.2009999752044678, 0.8079000115394592, 0.9702000021934509, 1.1924999952316284, 1.1898000240325928, 0.45210000872612, 0.9050999879837036, 0.8314999938011169, 0.9383000135421753, 0.7215999960899353, 0.06989999860525131, -0.10499999672174454, 0.27320000529289246, 0.7426000237464905, 0.5450999736785889, 0.8633999824523926, 0.1469999998807907, 0.19050000607967377, 0.7745000123977661, -0.3928999900817871, 0.29789999127388, 0.22519999742507935, -0.25270000100135803, 0.6334999799728394, 0.01810000091791153, -0.08250000327825546, -0.06780000030994415, 0.454800009727478, -0.00800000037997961, 0.48399999737739563, 2.007999897003174, 1.9979000091552734, 1.9954999685287476, 1.9944000244140625, 1.9943000078201294, 1.993399977684021, 1.9931999444961548, 1.992900013923645, 1.9919999837875366, 1.9914000034332275, 1.989799976348877, 1.9888999462127686, 1.9883999824523926, 1.9871000051498413, 1.986899971961975, 1.986799955368042, 1.986299991607666, 1.986299991607666, 1.986199975013733, 1.9855999946594238, 1.9845999479293823, 1.9817999601364136, 1.7518999576568604, 1.6785000562667847, 1.6191999912261963, 1.5944000482559204, 1.5918999910354614, 1.5846999883651733, 1.5813000202178955, 1.5806000232696533, 1.4794000387191772, 1.4919999837875366, 1.2466000318527222, 1.3063000440597534, 1.1406999826431274, 1.1582000255584717, 0.7846999764442444, 0.4383000135421753, 0.9126999974250793, 0.5864999890327454, 0.2653000056743622, 0.6352999806404114, 0.27300000190734863, 0.6848999857902527, -0.3400999903678894, 0.4740999937057495, -0.1834000051021576, 0.5325000286102295, 0.29030001163482666, 0.7373999953269958, 0.901199996471405, 1.0990999937057495, 1.090399980545044, -0.01899999938905239, 0.9314000010490417, -0.9236999750137329, 0.17399999499320984, 0.6150000095367432, 1.0185999870300293, 1.1611000299453735, -0.020999999716877937, 0.017100000753998756, 2.092099905014038, 2.0680999755859375, 2.0680999755859375, 2.0680999755859375, 2.0680999755859375, 2.0680999755859375, 2.0439999103546143, 1.8099000453948975, 1.7918000221252441, 1.732699990272522, 1.7230000495910645, 1.7211999893188477, 1.7186000347137451, 1.7186000347137451, 1.714900016784668, 1.6988999843597412, 1.697100043296814, 1.6929999589920044, 1.6841000318527222, 1.679900050163269, 1.6679999828338623, 1.6561000347137451, 1.6512999534606934, 1.6481000185012817, 1.6124000549316406, 1.5951999425888062, 1.5721999406814575, 1.4972000122070312, 1.4585000276565552, 1.4500999450683594, 1.3691999912261963, 1.2045999765396118, 1.2276999950408936, 0.9408000111579895, 0.35019999742507935, 0.8098999857902527, 1.3224999904632568, 1.2023999691009521, 1.1270999908447266, 1.1958999633789062, 0.6567999720573425, 0.8537999987602234, 0.7982000112533569, 0.8449000120162964, 0.8525999784469604, 0.6334999799728394, -0.07460000365972519, 0.7281000018119812, -0.12639999389648438, 0.3407999873161316, -0.6406999826431274, 0.16130000352859497, -0.16120000183582306, 0.6984999775886536, 0.734000027179718, 0.6169000267982483, 0.6527000069618225, 0.48739999532699585, -0.12229999899864197, -0.039400000125169754, 0.48350000381469727, 2.362799882888794, 2.2632999420166016, 2.207900047302246, 2.098400115966797, 2.0548999309539795, 2.04229998588562, 2.0030999183654785, 1.9996999502182007, 1.999400019645691, 1.9936000108718872, 1.9793000221252441, 1.9457999467849731, 1.9407999515533447, 1.9068000316619873, 1.8468999862670898, 1.8391000032424927, 1.7653000354766846, 1.7522000074386597, 1.739799976348877, 1.729699969291687, 1.728700041770935, 1.7231999635696411, 1.7203999757766724, 1.719599962234497, 1.7161999940872192, 1.715499997138977, 1.705399990081787, 1.7020000219345093, 1.6994999647140503, 1.6944999694824219, 1.537600040435791, 1.5608999729156494, 1.5817999839782715, 1.3631999492645264, 1.4457999467849731, 1.101699948310852, 1.2630000114440918, 0.930899977684021, 0.7962999939918518, 1.2994999885559082, 1.0292999744415283, 1.0377000570297241, 0.642300009727478, 1.1753000020980835, 0.037300001829862595, -0.1444000005722046, 0.013899999670684338, 1.0226999521255493, 0.7164999842643738, 0.21960000693798065, -0.01899999938905239, 0.10840000212192535, 0.16769999265670776, -1.3068000078201294, 0.4302000105381012, 2.4028000831604004, 2.3994998931884766, 2.3970999717712402, 2.396899938583374, 2.3945999145507812, 2.3910999298095703, 2.3882999420166016, 2.387500047683716, 2.387399911880493, 2.3870999813079834, 2.386899948120117, 2.386699914932251, 2.3861000537872314, 2.3854000568389893, 2.3840999603271484, 2.384000062942505, 2.38319993019104, 2.371299982070923, 2.3712000846862793, 2.348299980163574, 2.1786999702453613, 2.083199977874756, 2.0332000255584717, 2.0088999271392822, 1.988800048828125, 1.978600025177002, 1.9414000511169434, 1.9394999742507935, 1.9362000226974487, 1.9361000061035156, 1.815600037574768, 1.8610999584197998, 1.8531999588012695, 1.8382999897003174, 1.826300024986267, 1.8214999437332153, 1.395400047302246, 0.9301999807357788, 0.7005000114440918, -0.0044999998062849045, 0.6025999784469604, 1.135599970817566, -0.1469999998807907, -0.6664000153541565, 0.45570001006126404, 0.5619000196456909, 0.3571000099182129, 0.29010000824928284, 0.6818000078201294, -0.09560000151395798, 0.6121000051498413, 0.3903000056743622]}, \"token.table\": {\"Topic\": [1, 1, 6, 3, 6, 7, 4, 5, 3, 7, 1, 2, 5, 6, 4, 3, 4, 1, 2, 3, 4, 5, 6, 7, 2, 3, 6, 1, 2, 3, 4, 5, 6, 7, 3, 5, 1, 2, 3, 5, 6, 7, 1, 2, 3, 4, 5, 6, 7, 1, 5, 1, 2, 4, 6, 1, 2, 3, 4, 5, 6, 7, 4, 1, 2, 1, 2, 6, 7, 4, 6, 2, 5, 1, 1, 2, 3, 4, 6, 2, 3, 5, 2, 6, 4, 5, 1, 2, 3, 4, 5, 6, 7, 1, 7, 1, 2, 1, 4, 5, 1, 3, 4, 5, 6, 7, 2, 6, 1, 1, 3, 7, 1, 2, 3, 4, 5, 3, 4, 1, 3, 7, 2, 4, 5, 6, 7, 1, 3, 6, 2, 4, 6, 4, 2, 7, 7, 1, 2, 3, 4, 5, 7, 4, 1, 3, 4, 1, 2, 4, 6, 2, 3, 5, 6, 2, 3, 5, 1, 2, 5, 3, 5, 6, 4, 1, 1, 2, 3, 4, 6, 7, 3, 5, 5, 6, 1, 2, 3, 6, 7, 2, 6, 2, 7, 1, 5, 2, 7, 2, 5, 1, 3, 2, 4, 7, 1, 2, 4, 5, 7, 1, 2, 3, 4, 5, 6, 1, 2, 5, 1, 2, 4, 5, 4, 1, 2, 3, 4, 5, 6, 7, 1, 2, 3, 4, 5, 6, 7, 1, 2, 3, 4, 1, 2, 3, 5, 6, 2, 3, 7, 1, 2, 3, 4, 5, 6, 7, 7, 2, 3, 4, 5, 6, 2, 6, 1, 2, 3, 4, 5, 6, 4, 4, 6, 4, 7, 2, 3, 1, 5, 2, 6, 4, 5, 2, 4, 3, 7, 1, 2, 3, 4, 7, 4, 4, 4, 5, 6, 7, 3, 6, 4, 1, 4, 5, 4, 6, 7, 1, 2, 3, 4, 6, 1, 3, 5, 5, 1, 6, 2, 7, 1, 2, 3, 4, 1, 2, 7, 1, 3, 3, 5, 3, 4, 1, 2, 7, 3, 3, 2, 4, 5, 6, 7, 1, 2, 5, 5, 2, 6, 7, 1, 5, 2, 7, 1, 2, 3, 4, 5, 2, 3, 5, 6, 7, 1, 1, 2, 1, 5, 3, 5, 4, 1, 6, 4, 1, 1, 2, 3, 4, 5, 7, 1, 3, 4, 6, 1, 2, 3, 4, 5, 6, 7, 7, 1, 2, 3, 4, 5, 7, 4, 5, 1, 2, 3, 4, 5, 6, 2, 7, 6, 7, 2, 5, 5, 7, 1, 2, 3, 4, 5, 6, 7, 4, 1, 2, 3, 6, 1, 7, 2, 5, 1, 2, 3, 4, 5, 6, 7, 1, 2, 3, 4, 5, 6, 1, 5, 6, 6, 7, 3, 4, 7, 1, 5, 2, 6, 7, 1, 2, 3, 4, 5, 6, 7, 1, 2, 3, 4, 5, 6, 7, 1, 2, 3, 4, 5, 1, 2, 3, 4, 5, 7, 3, 7, 1, 1, 1, 2, 3, 4, 7, 4, 1, 3, 4, 6, 4, 1, 6, 7, 1, 1, 2, 3, 4, 7, 3, 5, 2, 3, 5, 4, 5, 6, 4, 1, 2, 3, 4, 5, 7, 4, 1, 4, 1, 4, 6, 1, 2, 3, 4, 5, 6, 7, 1, 2, 3, 4, 5, 6, 7, 2, 5, 3, 5, 3, 7, 4, 5, 1, 2, 3, 7, 3, 4, 5, 3, 1, 4, 1, 4, 5, 1, 2, 3, 4, 5, 6, 7, 1, 7, 1, 4, 6, 3, 6, 3, 7, 1, 2, 4, 6, 7, 1, 4, 6, 3, 5, 6, 3, 6, 1, 2, 5, 1, 7, 1, 6, 1, 6, 5, 6, 1, 1, 5, 1, 2, 3, 1, 2, 3, 5, 6, 7, 5, 6, 1, 2, 1, 2, 3, 4, 5, 6, 7, 1, 2, 3, 4, 5, 6, 7, 1, 2, 5, 1, 4, 1, 4, 6, 1, 2, 3, 4, 5, 6, 3, 2, 4, 1, 2, 3, 4, 5, 6, 7, 2, 5, 5, 6, 7, 1, 2, 3, 4, 5, 6, 4, 3, 6, 7, 1, 5, 4, 5, 1, 2, 4, 5, 2, 4, 1, 7, 2, 5, 2, 7, 7, 1, 2, 3, 4, 5, 6, 4, 6, 5, 1, 5, 4, 7, 2, 5, 1, 2, 1, 1, 3, 4, 5, 6, 1, 3, 4, 5, 6, 4, 4, 5, 2, 3, 6, 3, 5, 1, 2, 1, 2, 3, 1, 2, 4, 5, 2, 3, 2, 1, 2, 3, 4, 5, 6, 7, 7, 3, 4, 1, 2, 3, 7, 1, 2, 3, 4, 5, 6, 1, 2, 6, 3, 4, 6, 1, 5, 7, 1, 2, 3, 6, 2, 4, 5, 2, 3, 1, 2, 6, 1, 2, 3, 5, 1, 2, 1, 3, 5, 6, 1, 2, 3, 4, 5, 6, 7, 7, 1, 2, 3, 4, 6, 1, 2, 3, 4, 6, 7, 1, 2, 3, 4, 5, 6, 7, 5, 2, 3, 1, 3, 4, 5, 6, 1, 3, 6, 3, 6, 7, 2, 3, 5, 1, 2, 3, 4, 5, 6, 4, 1, 2, 1, 2, 3, 4, 2, 3, 1, 2, 4, 6, 1, 2, 3, 4, 5, 6, 2, 3, 1, 4, 6, 1, 2, 3, 4, 5, 1, 2, 3, 5, 7, 1, 1, 3, 4, 5, 6, 1, 2, 3, 4, 5, 6, 7, 1, 2, 3, 4, 5, 6, 7, 2, 4, 7, 7, 5, 7, 1, 2, 3, 5, 1, 3, 4, 5, 6, 1, 2, 5, 1, 2, 4, 6, 1, 2, 3, 5, 6, 7, 3, 4, 5, 6, 7], \"Freq\": [0.9853271842002869, 0.48951154947280884, 0.48951154947280884, 0.32457247376441956, 0.6491449475288391, 1.0021753311157227, 0.2515990734100342, 0.7547972202301025, 0.7898023128509521, 0.19745057821273804, 0.16631701588630676, 0.8315851092338562, 0.3253820538520813, 0.6507641077041626, 1.0257683992385864, 0.7441332936286926, 0.2480444461107254, 0.38793817162513733, 0.05541973561048508, 0.2216789424419403, 0.05541973561048508, 0.02770986780524254, 0.19396908581256866, 0.05541973561048508, 0.24484167993068695, 0.24484167993068695, 0.4896833598613739, 0.32197070121765137, 0.08049267530441284, 0.16098535060882568, 0.16098535060882568, 0.12073901295661926, 0.08049267530441284, 0.12073901295661926, 0.3290461599826813, 0.6580923199653625, 0.20076370239257812, 0.20076370239257812, 0.10038185119628906, 0.25095462799072266, 0.10038185119628906, 0.1505727767944336, 0.20936104655265808, 0.13322976231575012, 0.22839388251304626, 0.1712954044342041, 0.09516411274671555, 0.09516411274671555, 0.07613129168748856, 0.3279048204421997, 0.6558096408843994, 0.18881180882453918, 0.3146863579750061, 0.25174906849861145, 0.25174906849861145, 0.0754934549331665, 0.17615139484405518, 0.3774672746658325, 0.050328969955444336, 0.0754934549331665, 0.025164484977722168, 0.20131587982177734, 1.025480031967163, 0.8208747506141663, 0.16417495906352997, 0.9768996238708496, 0.32453039288520813, 0.6490607857704163, 1.0020197629928589, 0.3256230652332306, 0.6512461304664612, 0.7468647956848145, 0.9937105178833008, 0.9779089689254761, 0.16683360934257507, 0.4170840084552765, 0.16683360934257507, 0.08341680467128754, 0.08341680467128754, 0.09977947175502777, 0.598676860332489, 0.2993384301662445, 0.6542754173278809, 0.32713770866394043, 0.33486229181289673, 0.6697245836257935, 0.20261694490909576, 0.2649606168270111, 0.14027327299118042, 0.1714451164007187, 0.04675775766372681, 0.01558591891080141, 0.1714451164007187, 0.329319030046463, 0.658638060092926, 0.32765060663223267, 0.6553012132644653, 0.2008088231086731, 0.2008088231086731, 0.6024264693260193, 0.15859289467334747, 0.2643214762210846, 0.05286429449915886, 0.3700500726699829, 0.05286429449915886, 0.10572858899831772, 0.6545152068138123, 0.32725760340690613, 0.9710309505462646, 0.9700887203216553, 0.2486032098531723, 0.4972064197063446, 0.07770249247550964, 0.07770249247550964, 0.3885124623775482, 0.23310747742652893, 0.1554049849510193, 0.6630159020423889, 0.33150795102119446, 0.19918833673000336, 0.19918833673000336, 0.5975649952888489, 0.16578413546085358, 0.08289206773042679, 0.08289206773042679, 0.5802444815635681, 1.0021445751190186, 0.16324183344841003, 0.16324183344841003, 0.6529673337936401, 0.6309720277786255, 0.2523888051509857, 0.12619440257549286, 1.0266752243041992, 0.6693169474601746, 0.3346584737300873, 0.9960654973983765, 0.12568850815296173, 0.06284425407648087, 0.31422126293182373, 0.06284425407648087, 0.25137701630592346, 0.12568850815296173, 1.02549147605896, 0.16569259762763977, 0.6627703905105591, 0.16569259762763977, 0.43512627482414246, 0.12432179600000381, 0.12432179600000381, 0.37296536564826965, 0.32659345865249634, 0.6531869173049927, 0.6562365293502808, 0.3281182646751404, 0.11050139367580414, 0.6630083322525024, 0.22100278735160828, 0.1251150369644165, 0.6255751252174377, 0.1251150369644165, 0.16374406218528748, 0.16374406218528748, 0.6549762487411499, 1.0253865718841553, 0.9699220061302185, 0.11131306737661362, 0.22262613475322723, 0.16696959733963013, 0.05565653368830681, 0.22262613475322723, 0.16696959733963013, 0.6612836718559265, 0.16532091796398163, 0.6563739776611328, 0.3281869888305664, 0.07697433978319168, 0.4618460237979889, 0.15394867956638336, 0.15394867956638336, 0.07697433978319168, 0.3245927095413208, 0.6491854190826416, 0.33129018545150757, 0.6625803709030151, 0.787135899066925, 0.19678397476673126, 0.799925684928894, 0.1999814212322235, 0.7469988465309143, 0.24899962544441223, 0.3244066536426544, 0.6488133072853088, 0.604485273361206, 0.20149508118629456, 0.20149508118629456, 0.06802857667207718, 0.20408573746681213, 0.3401429057121277, 0.40817147493362427, 0.9961455464363098, 0.3226487934589386, 0.12099330127239227, 0.10082774609327316, 0.12099330127239227, 0.3024832606315613, 0.040331099182367325, 0.598035991191864, 0.2657937705516815, 0.19934532046318054, 0.184836283326149, 0.2772544324398041, 0.369672566652298, 0.0924181416630745, 1.0256130695343018, 0.11304458230733871, 0.11304458230733871, 0.05652229115366936, 0.3956560492515564, 0.05652229115366936, 0.16956686973571777, 0.05652229115366936, 0.2702459692955017, 0.19303284585475922, 0.03860656917095184, 0.03860656917095184, 0.23163940012454987, 0.15442627668380737, 0.07721313834190369, 0.45371773838996887, 0.10082616657018661, 0.10082616657018661, 0.25206542015075684, 0.1495356261730194, 0.1495356261730194, 0.24922603368759155, 0.19938082993030548, 0.24922603368759155, 0.19976042211055756, 0.19976042211055756, 0.5992812514305115, 0.19077622890472412, 0.1430821716785431, 0.3338584005832672, 0.09538811445236206, 0.09538811445236206, 0.09538811445236206, 0.04769405722618103, 1.002105712890625, 0.5026436448097229, 0.14361245930194855, 0.07180622965097427, 0.14361245930194855, 0.14361245930194855, 0.4914737641811371, 0.4914737641811371, 0.05614934489130974, 0.33689606189727783, 0.16844803094863892, 0.16844803094863892, 0.16844803094863892, 0.05614934489130974, 1.0257538557052612, 0.24481596052646637, 0.7344478964805603, 0.3355896770954132, 0.6711793541908264, 0.3303670287132263, 0.6607340574264526, 0.8213335275650024, 0.1642667055130005, 0.6542966961860657, 0.32714834809303284, 0.3348270654678345, 0.669654130935669, 0.7529511451721191, 0.25098371505737305, 0.6550582647323608, 0.3275291323661804, 0.1259816288948059, 0.3779448866844177, 0.1259816288948059, 0.06299081444740295, 0.2519632577896118, 1.025803565979004, 1.0258009433746338, 0.6772345900535583, 0.3386172950267792, 0.6526846885681152, 0.3263423442840576, 0.5880041122436523, 0.39200276136398315, 1.0255260467529297, 0.3762749135494232, 0.12542496621608734, 0.5016998648643494, 0.19873294234275818, 0.39746588468551636, 0.39746588468551636, 0.19912618398666382, 0.09956309199333191, 0.09956309199333191, 0.19912618398666382, 0.39825236797332764, 0.19724141061306, 0.5917242765426636, 0.19724141061306, 0.9922940731048584, 0.3903297483921051, 0.5854946374893188, 0.9949009418487549, 1.002144694328308, 0.6625545024871826, 0.11042575538158417, 0.11042575538158417, 0.11042575538158417, 0.9700969457626343, 0.747570276260376, 0.24919010698795319, 0.3244720995426178, 0.6489441990852356, 0.6544788479804993, 0.32723942399024963, 0.744798481464386, 0.24826617538928986, 0.7562175393104553, 0.1592036932706833, 0.03980092331767082, 0.984783947467804, 0.9752830862998962, 0.3707880973815918, 0.3707880973815918, 0.09269702434539795, 0.09269702434539795, 0.09269702434539795, 0.2848758101463318, 0.5697516202926636, 0.1424379050731659, 0.9922943115234375, 0.7142789363861084, 0.14285579323768616, 0.14285579323768616, 0.8462660312652588, 0.14104433357715607, 0.6005603671073914, 0.20018678903579712, 0.21817675232887268, 0.21817675232887268, 0.07272558659315109, 0.43635350465774536, 0.07272558659315109, 0.45520374178886414, 0.18208149075508118, 0.18208149075508118, 0.09104074537754059, 1.0021251440048218, 0.9699448943138123, 0.32757851481437683, 0.6551570296287537, 0.7363969683647156, 0.24546565115451813, 0.7394710779190063, 0.24649035930633545, 1.0257459878921509, 0.7307804226875305, 0.2435934692621231, 1.025685429573059, 0.9759714007377625, 0.07206007093191147, 0.07206007093191147, 0.2882402837276459, 0.14412014186382294, 0.07206007093191147, 0.36030036211013794, 0.2482813596725464, 0.1241406798362732, 0.1241406798362732, 0.3724220395088196, 0.3080524504184723, 0.19603337347507477, 0.02800476737320423, 0.1400238424539566, 0.11201906949281693, 0.11201906949281693, 0.1400238424539566, 0.9961282014846802, 0.1815779209136963, 0.1815779209136963, 0.4539448022842407, 0.09078896045684814, 0.09078896045684814, 0.09078896045684814, 0.33468642830848694, 0.6693728566169739, 0.27339547872543335, 0.36452731490135193, 0.09113182872533798, 0.04556591436266899, 0.13669773936271667, 0.09113182872533798, 0.4007696509361267, 0.6011544466018677, 0.3973860442638397, 0.5960790514945984, 0.3306678831577301, 0.6613357663154602, 0.6621255278587341, 0.33106276392936707, 0.17892922461032867, 0.08420198410749435, 0.2736564576625824, 0.1999797224998474, 0.10525248199701309, 0.09472723305225372, 0.07367673516273499, 1.0253289937973022, 0.13265205919742584, 0.19897808134555817, 0.46428218483924866, 0.13265205919742584, 0.32898658514022827, 0.6579731702804565, 0.7995188236236572, 0.1998797059059143, 0.3348415493965149, 0.055806927382946014, 0.11161385476589203, 0.11161385476589203, 0.22322770953178406, 0.055806927382946014, 0.055806927382946014, 0.3438733220100403, 0.14737428724765778, 0.17193666100502014, 0.17193666100502014, 0.09824952483177185, 0.049124762415885925, 0.327502578496933, 0.1637512892484665, 0.49125388264656067, 0.32911035418510437, 0.6582207083702087, 0.25192514061927795, 0.12596257030963898, 0.5038502812385559, 0.7359058856964111, 0.2453019618988037, 0.7506048083305359, 0.12510080635547638, 0.12510080635547638, 0.0946434885263443, 0.0946434885263443, 0.22083480656147003, 0.25238263607025146, 0.03154782950878143, 0.22083480656147003, 0.06309565901756287, 0.3108884394168854, 0.12435537576675415, 0.062177687883377075, 0.062177687883377075, 0.062177687883377075, 0.3108884394168854, 0.062177687883377075, 0.11276955902576447, 0.11276955902576447, 0.22553911805152893, 0.45107823610305786, 0.11276955902576447, 0.26385775208473206, 0.23987068235874176, 0.16790948808193207, 0.07196120917797089, 0.09594827145338058, 0.14392241835594177, 0.32986488938331604, 0.6597297787666321, 0.9857581257820129, 0.9702484607696533, 0.1874513030052185, 0.0624837689101696, 0.4998701512813568, 0.0624837689101696, 0.1249675378203392, 1.0255343914031982, 0.6102256774902344, 0.0762782096862793, 0.0762782096862793, 0.22883464395999908, 1.0259978771209717, 0.24504677951335907, 0.49009355902671814, 0.24504677951335907, 0.9709374904632568, 0.07749340683221817, 0.4649604558944702, 0.2324802279472351, 0.15498681366443634, 0.07749340683221817, 0.5947774052619934, 0.3965182602405548, 0.14190281927585602, 0.7095140814781189, 0.14190281927585602, 0.2481658160686493, 0.2481658160686493, 0.4963316321372986, 1.0253123044967651, 0.17355221509933472, 0.22313855588436127, 0.07437951862812042, 0.22313855588436127, 0.2727248966693878, 0.024793174117803574, 1.0256563425064087, 0.7922825217247009, 0.19807063043117523, 0.4239847660064697, 0.14132826030254364, 0.4239847660064697, 0.08345667272806168, 0.16691334545612335, 0.4590117037296295, 0.04172833636403084, 0.04172833636403084, 0.08345667272806168, 0.1251850128173828, 0.17297762632369995, 0.1482665240764618, 0.19768871366977692, 0.2718219757080078, 0.024711089208722115, 0.09884435683488846, 0.0741332620382309, 0.6603732109069824, 0.3301866054534912, 0.6525444984436035, 0.32627224922180176, 0.6546285152435303, 0.32731425762176514, 0.33491504192352295, 0.6698300838470459, 0.2220911830663681, 0.49970516562461853, 0.2776139974594116, 1.0022683143615723, 0.6605479717254639, 0.33027398586273193, 0.9922968149185181, 0.6512524485588074, 0.3356737494468689, 0.6713474988937378, 0.6993730068206787, 0.1998208463191986, 0.0999104231595993, 0.24298396706581116, 0.12149198353290558, 0.16198931634426117, 0.24298396706581116, 0.12149198353290558, 0.04049732908606529, 0.04049732908606529, 0.32938531041145325, 0.6587706208229065, 0.20455622673034668, 0.8182249069213867, 0.20455622673034668, 0.6478769183158875, 0.3239384591579437, 0.2494160532951355, 0.7482481598854065, 0.18428562581539154, 0.18428562581539154, 0.3685712516307831, 0.18428562581539154, 0.09214281290769577, 0.14612756669521332, 0.7306378483772278, 0.14612756669521332, 0.26951563358306885, 0.08983854204416275, 0.6288698315620422, 0.6479547023773193, 0.32397735118865967, 0.2228643000125885, 0.11143215000629425, 0.6685929298400879, 0.39815831184387207, 0.5972374677658081, 0.3229510486125946, 0.6459020972251892, 0.48784488439559937, 0.48784488439559937, 0.49255409836769104, 0.49255409836769104, 0.9700689911842346, 0.328511506319046, 0.657023012638092, 0.970975935459137, 0.656568169593811, 0.3282840847969055, 0.1367131769657135, 0.04557105898857117, 0.31899741291999817, 0.273426353931427, 0.09114211797714233, 0.18228423595428467, 0.992295503616333, 0.9670095443725586, 0.24728089570999146, 0.7418426871299744, 0.2439880520105362, 0.069710873067379, 0.2439880520105362, 0.2091326117515564, 0.069710873067379, 0.0348554365336895, 0.139421746134758, 0.274223268032074, 0.274223268032074, 0.137111634016037, 0.09140775352716446, 0.137111634016037, 0.04570387676358223, 0.04570387676358223, 0.1993590146303177, 0.7974360585212708, 0.1993590146303177, 0.4051341414451599, 0.6077012419700623, 0.7366393208503723, 0.6701393723487854, 0.3350696861743927, 0.1123327985405922, 0.2808319926261902, 0.1123327985405922, 0.1684992015361786, 0.2808319926261902, 0.0561663992702961, 0.9809837937355042, 0.33773887157440186, 0.6754777431488037, 0.24557729065418243, 0.06139432266354561, 0.12278864532709122, 0.21488013863563538, 0.21488013863563538, 0.030697161331772804, 0.12278864532709122, 0.2496553659439087, 0.7489660978317261, 0.5948416590690613, 0.3965611159801483, 0.9962183237075806, 0.310935378074646, 0.0621870793402195, 0.3731224834918976, 0.0621870793402195, 0.124374158680439, 0.124374158680439, 1.02555251121521, 0.7346857190132141, 0.24489523470401764, 1.002058506011963, 0.3284548819065094, 0.6569097638130188, 0.6764922738075256, 0.3382461369037628, 0.20128890872001648, 0.3019333481788635, 0.10064445436000824, 0.40257781744003296, 0.3409019708633423, 0.5113529562950134, 0.9709581136703491, 1.0021381378173828, 0.3307989537715912, 0.6615979075431824, 0.19008681178092957, 0.7603472471237183, 0.9954370856285095, 0.3430638015270233, 0.2858864963054657, 0.11435460299253464, 0.05717730149626732, 0.05717730149626732, 0.17153190076351166, 0.3285835385322571, 0.6571670770645142, 0.9923038482666016, 0.8207980990409851, 0.1641596257686615, 1.0254698991775513, 1.0020551681518555, 0.4985205829143524, 0.4985205829143524, 0.32794708013534546, 0.6558941602706909, 0.9719225764274597, 0.13355396687984467, 0.4006619155406952, 0.13355396687984467, 0.13355396687984467, 0.13355396687984467, 0.22987961769104004, 0.13792777061462402, 0.32183146476745605, 0.09195184707641602, 0.18390369415283203, 1.0256551504135132, 0.6766183376312256, 0.3383091688156128, 0.2448643296957016, 0.2448643296957016, 0.4897286593914032, 0.32896503806114197, 0.6579300761222839, 0.3276240825653076, 0.6552481651306152, 0.29911643266677856, 0.4985274076461792, 0.09970548003911972, 0.28843191266059875, 0.4326478838920593, 0.14421595633029938, 0.09614397585391998, 0.32655709981918335, 0.6531141996383667, 0.9890668392181396, 0.2881903648376465, 0.17291420698165894, 0.17291420698165894, 0.14409518241882324, 0.08645710349082947, 0.02881903573870659, 0.11527614295482635, 1.0021575689315796, 0.7461553812026978, 0.24871845543384552, 0.18152238428592682, 0.27228355407714844, 0.36304476857185364, 0.09076119214296341, 0.10088218003511429, 0.10088218003511429, 0.10088218003511429, 0.20176436007022858, 0.40352872014045715, 0.10088218003511429, 0.2446223795413971, 0.2446223795413971, 0.4892447590827942, 0.24708829820156097, 0.24708829820156097, 0.49417659640312195, 0.32945865392684937, 0.6589173078536987, 0.9963299632072449, 0.1991349160671234, 0.7965396642684937, 0.6482568979263306, 0.3241284489631653, 0.2516002357006073, 0.2516002357006073, 0.5032004714012146, 0.5961900949478149, 0.39746007323265076, 0.9761823415756226, 0.24441176652908325, 0.7332352995872498, 0.17615288496017456, 0.11743525415658951, 0.46974101662635803, 0.17615288496017456, 0.3275817334651947, 0.6551634669303894, 0.3315308392047882, 0.3315308392047882, 0.2652246654033661, 0.06630616635084152, 0.370373398065567, 0.13168831169605255, 0.1810714304447174, 0.0905357152223587, 0.057613637298345566, 0.07407467812299728, 0.08230520039796829, 0.9963830709457397, 0.1821211725473404, 0.1821211725473404, 0.0910605862736702, 0.1821211725473404, 0.3642423450946808, 0.16719864308834076, 0.2675178349018097, 0.13375891745090485, 0.10031918436288834, 0.2675178349018097, 0.06687945872545242, 0.15508443117141724, 0.25847405195236206, 0.18093183636665344, 0.12923702597618103, 0.12923702597618103, 0.10338962078094482, 0.05169481039047241, 0.9983521699905396, 0.6561622023582458, 0.3280811011791229, 0.11804160475730896, 0.17706240713596344, 0.05902080237865448, 0.47216641902923584, 0.17706240713596344, 0.2958884835243225, 0.2958884835243225, 0.3945179581642151, 0.7347403764724731, 0.24491344392299652, 1.0021556615829468, 0.5976187586784363, 0.19920624792575836, 0.19920624792575836, 0.23682883381843567, 0.11841441690921783, 0.05920720845460892, 0.17762161791324615, 0.23682883381843567, 0.17762161791324615, 1.0255361795425415, 0.24967019259929657, 0.7490105628967285, 0.6184521913528442, 0.24738086760044098, 0.12369043380022049, 1.0257471799850464, 0.32658907771110535, 0.6531781554222107, 0.12466730922460556, 0.12466730922460556, 0.24933461844921112, 0.49866923689842224, 0.2709156274795532, 0.027091562747955322, 0.40637344121932983, 0.08127468824386597, 0.16254937648773193, 0.027091562747955322, 0.6640733480453491, 0.33203667402267456, 0.9779912233352661, 0.3285500109195709, 0.6571000218391418, 0.10682491958141327, 0.21364983916282654, 0.10682491958141327, 0.21364983916282654, 0.26706230640411377, 0.25114476680755615, 0.1674298346042633, 0.08371491730213165, 0.3348596692085266, 0.1674298346042633, 0.9695990681648254, 0.10180555284023285, 0.10180555284023285, 0.5090277791023254, 0.2036111056804657, 0.10180555284023285, 0.2532026767730713, 0.3120869994163513, 0.15309928357601166, 0.05299590900540352, 0.16487616300582886, 0.02355373650789261, 0.041219040751457214, 0.40393608808517456, 0.16375787556171417, 0.1200891062617302, 0.10917191952466965, 0.10917191952466965, 0.08733753114938736, 0.02183438278734684, 0.6045277118682861, 0.2015092372894287, 0.2015092372894287, 0.9963604807853699, 0.6632682085037231, 0.3316341042518616, 0.3496367931365967, 0.09989622235298157, 0.24974055588245392, 0.2996886670589447, 0.43939128518104553, 0.18831054866313934, 0.2510807514190674, 0.06277018785476685, 0.06277018785476685, 0.696927547454834, 0.09956108033657074, 0.19912216067314148, 0.3097608983516693, 0.07744022458791733, 0.3097608983516693, 0.3097608983516693, 0.21491824090480804, 0.4298364818096161, 0.07163941115140915, 0.1432788223028183, 0.07163941115140915, 0.1432788223028183, 0.2405388355255127, 0.4209429621696472, 0.2405388355255127, 0.060134708881378174, 0.060134708881378174], \"Term\": [\"abstract_available\", \"academic_web\", \"academic_web\", \"acquire\", \"acquire\", \"action_fraudulent\", \"actual\", \"actual\", \"adapt\", \"adapt\", \"adaptive\", \"adaptive\", \"add\", \"add\", \"address_another\", \"adopt\", \"adopt\", \"agent\", \"agent\", \"agent\", \"agent\", \"agent\", \"agent\", \"agent\", \"ai\", \"ai\", \"ai\", \"algorithm\", \"algorithm\", \"algorithm\", \"algorithm\", \"algorithm\", \"algorithm\", \"algorithm\", \"allow_us\", \"allow_us\", \"analysis\", \"analysis\", \"analysis\", \"analysis\", \"analysis\", \"analysis\", \"application\", \"application\", \"application\", \"application\", \"application\", \"application\", \"application\", \"application_berlin_heidelberg\", \"application_berlin_heidelberg\", \"apply\", \"apply\", \"apply\", \"apply\", \"approach\", \"approach\", \"approach\", \"approach\", \"approach\", \"approach\", \"approach\", \"approximate_rather\", \"artificial_intelligence\", \"artificial_intelligence\", \"aspect_web_intelligence\", \"assess\", \"assess\", \"assessment_discriminatory\", \"assist\", \"assist\", \"attention\", \"augment\", \"author\", \"automatic\", \"automatic\", \"automatic\", \"automatic\", \"automatic\", \"automatically\", \"automatically\", \"automatically\", \"awareness\", \"awareness\", \"background\", \"background\", \"base\", \"base\", \"base\", \"base\", \"base\", \"base\", \"base\", \"behaviour\", \"behaviour\", \"believe\", \"believe\", \"benefit\", \"benefit\", \"benefit\", \"berlin_heidelberg\", \"berlin_heidelberg\", \"berlin_heidelberg\", \"berlin_heidelberg\", \"berlin_heidelberg\", \"berlin_heidelberg\", \"best\", \"best\", \"bivalent_logic_probability\", \"brain_informatics_bi\", \"brief\", \"brief\", \"build\", \"build\", \"build\", \"build\", \"build\", \"business_goal\", \"business_goal\", \"business_intelligence\", \"business_intelligence\", \"business_intelligence\", \"capability\", \"capability\", \"capability\", \"capability\", \"capture_market\", \"category\", \"category\", \"category\", \"center\", \"center\", \"center\", \"central_task\", \"centre\", \"centre\", \"century_powerful\", \"challenge\", \"challenge\", \"challenge\", \"challenge\", \"challenge\", \"challenge\", \"challenging_problem\", \"characteristic\", \"characteristic\", \"characteristic\", \"cluster\", \"cluster\", \"cluster\", \"cluster\", \"collection\", \"collection\", \"commodity_recommendation\", \"commodity_recommendation\", \"community\", \"community\", \"community\", \"company\", \"company\", \"company\", \"compare\", \"compare\", \"compare\", \"complex_information\", \"computational_part\", \"concept\", \"concept\", \"concept\", \"concept\", \"concept\", \"concept\", \"conceptual\", \"conceptual\", \"concern\", \"concern\", \"conference\", \"conference\", \"conference\", \"conference\", \"conference\", \"consist\", \"consist\", \"consumer_behavior\", \"consumer_behavior\", \"contain\", \"contain\", \"control\", \"control\", \"cooperative\", \"cooperative\", \"cover\", \"cover\", \"currently\", \"currently\", \"currently\", \"customer\", \"customer\", \"customer\", \"customer\", \"customer_assurance\", \"data\", \"data\", \"data\", \"data\", \"data\", \"data\", \"data_mining\", \"data_mining\", \"data_mining\", \"deal\", \"deal\", \"deal\", \"deal\", \"deduction_unstructured_imprecise\", \"describe\", \"describe\", \"describe\", \"describe\", \"describe\", \"describe\", \"describe\", \"design\", \"design\", \"design\", \"design\", \"design\", \"design\", \"design\", \"develop\", \"develop\", \"develop\", \"develop\", \"different\", \"different\", \"different\", \"different\", \"different\", \"direction\", \"direction\", \"direction\", \"discuss\", \"discuss\", \"discuss\", \"discuss\", \"discuss\", \"discuss\", \"discuss\", \"disseminate_customer\", \"distributed\", \"distributed\", \"distributed\", \"distributed\", \"distributed\", \"diverse\", \"diverse\", \"document\", \"document\", \"document\", \"document\", \"document\", \"document\", \"document_cluster\", \"document_clustering\", \"document_clustering\", \"drive\", \"drive\", \"due\", \"due\", \"effective\", \"effective\", \"efficient\", \"efficient\", \"efficiently_effectively\", \"efficiently_effectively\", \"electronic_commerce\", \"electronic_commerce\", \"engine\", \"engine\", \"environment\", \"environment\", \"environment\", \"environment\", \"environment\", \"environment_give\", \"environment_part\", \"especially\", \"especially\", \"essential\", \"essential\", \"event\", \"event\", \"exact_search\", \"example\", \"example\", \"example\", \"exist\", \"exist\", \"exist\", \"experiment\", \"experiment\", \"experiment\", \"experiment\", \"experiment\", \"experimental_result\", \"experimental_result\", \"experimental_result\", \"exploit_advanced\", \"explore_topic\", \"explore_topic\", \"facilitate\", \"feedback_buyer\", \"field\", \"field\", \"field\", \"field\", \"filter_base\", \"finally\", \"finally\", \"follow\", \"follow\", \"format\", \"format\", \"full\", \"full\", \"fuzzy\", \"fuzzy\", \"fuzzy\", \"gain\", \"gather\", \"general\", \"general\", \"general\", \"general\", \"general\", \"generate\", \"generate\", \"generate\", \"generation_information_processing\", \"global\", \"global\", \"global\", \"good\", \"good\", \"granular\", \"granular\", \"grid\", \"grid\", \"grid\", \"grid\", \"grid\", \"group\", \"group\", \"group\", \"group\", \"grow_development\", \"guide\", \"hierarchical\", \"hierarchical\", \"high\", \"high\", \"highlight\", \"highlight\", \"hit_find\", \"html\", \"html\", \"huge_stream\", \"human_intelligence\", \"idea\", \"idea\", \"idea\", \"idea\", \"idea\", \"idea\", \"identify\", \"identify\", \"identify\", \"identify\", \"ieee\", \"ieee\", \"ieee\", \"ieee\", \"ieee\", \"ieee\", \"ieee\", \"impact_business\", \"important\", \"important\", \"important\", \"important\", \"important\", \"important\", \"improvement\", \"improvement\", \"include\", \"include\", \"include\", \"include\", \"include\", \"include\", \"incorporate\", \"incorporate\", \"indicate\", \"indicate\", \"individual\", \"individual\", \"individual_user\", \"individual_user\", \"information\", \"information\", \"information\", \"information\", \"information\", \"information\", \"information\", \"information_imprecise_environment\", \"information_retrieval\", \"information_retrieval\", \"information_retrieval\", \"information_retrieval\", \"inspire\", \"inspire\", \"integrated\", \"integrated\", \"intelligence\", \"intelligence\", \"intelligence\", \"intelligence\", \"intelligence\", \"intelligence\", \"intelligence\", \"intelligent\", \"intelligent\", \"intelligent\", \"intelligent\", \"intelligent\", \"intelligent\", \"intelligent_agent\", \"intelligent_agent\", \"intelligent_agent\", \"intelligent_portal\", \"intelligent_portal\", \"interaction\", \"interaction\", \"interaction\", \"interactive\", \"interactive\", \"interface\", \"interface\", \"interface\", \"internet\", \"internet\", \"internet\", \"internet\", \"internet\", \"internet\", \"internet\", \"issue\", \"issue\", \"issue\", \"issue\", \"issue\", \"issue\", \"issue\", \"kind\", \"kind\", \"kind\", \"kind\", \"kind\", \"knowledge\", \"knowledge\", \"knowledge\", \"knowledge\", \"knowledge\", \"knowledge\", \"knowledge_logistics\", \"knowledge_logistics\", \"language\", \"large_number\", \"learn\", \"learn\", \"learn\", \"learn\", \"learn\", \"less_obvious\", \"link\", \"link\", \"link\", \"link\", \"logic_support\", \"machine_translation\", \"machine_translation\", \"machine_translation\", \"macro_micro\", \"management\", \"management\", \"management\", \"management\", \"management\", \"market\", \"market\", \"member\", \"member\", \"member\", \"metadata\", \"metadata\", \"metadata\", \"mode_reason\", \"model\", \"model\", \"model\", \"model\", \"model\", \"model\", \"motivation_web\", \"name\", \"name\", \"navigation\", \"navigation\", \"navigation\", \"network\", \"network\", \"network\", \"network\", \"network\", \"network\", \"network\", \"new\", \"new\", \"new\", \"new\", \"new\", \"new\", \"new\", \"next\", \"next\", \"novel\", \"novel\", \"obstacle\", \"obstacle\", \"often\", \"often\", \"ontology\", \"ontology\", \"ontology\", \"opinion_recommendation\", \"opportunity\", \"opportunity\", \"opportunity_challenge\", \"optimization\", \"outperform\", \"outperform\", \"page\", \"page\", \"page\", \"paper\", \"paper\", \"paper\", \"paper\", \"paper\", \"paper\", \"paper\", \"paper_attempt\", \"paper_attempt\", \"paper_first\", \"paper_first\", \"paper_first\", \"paper_focus\", \"paper_focus\", \"paradigm\", \"paradigm\", \"part\", \"part\", \"part\", \"part\", \"part\", \"people\", \"people\", \"people\", \"performance\", \"performance\", \"performance\", \"personal\", \"personal\", \"personalization\", \"personalization\", \"personalization\", \"perspective\", \"perspective\", \"play\", \"play\", \"pnl\", \"pnl\", \"popular\", \"popular\", \"portal_technique\", \"powerful\", \"powerful\", \"precisiated_natural_language\", \"preliminary\", \"preliminary\", \"present\", \"present\", \"present\", \"present\", \"present\", \"present\", \"present_excellent\", \"principal\", \"probabilistic\", \"probabilistic\", \"problem\", \"problem\", \"problem\", \"problem\", \"problem\", \"problem\", \"problem\", \"process\", \"process\", \"process\", \"process\", \"process\", \"process\", \"process\", \"processing\", \"processing\", \"processing\", \"product\", \"product\", \"profile\", \"promise\", \"promise\", \"propose\", \"propose\", \"propose\", \"propose\", \"propose\", \"propose\", \"propose_method\", \"propose_new\", \"propose_new\", \"provide\", \"provide\", \"provide\", \"provide\", \"provide\", \"provide\", \"provide\", \"public\", \"public\", \"publication\", \"publication\", \"quality_assessment\", \"query\", \"query\", \"query\", \"query\", \"query\", \"query\", \"query_user\", \"range\", \"range\", \"reaction_product_service\", \"real_world_data\", \"real_world_data\", \"realize\", \"realize\", \"recommendation\", \"recommendation\", \"recommendation\", \"recommendation\", \"recommender_system\", \"recommender_system\", \"relationship\", \"relationship_learn\", \"relevant\", \"relevant\", \"reputation\", \"reputation\", \"reputation_agent\", \"research\", \"research\", \"research\", \"research\", \"research\", \"research\", \"research_activity\", \"research_activity\", \"research_development_new\", \"researcher\", \"researcher\", \"retrieve_thousand\", \"reveal_dishonest\", \"right_time\", \"right_time\", \"rough\", \"rough\", \"rough_set_theory\", \"search\", \"search\", \"search\", \"search\", \"search\", \"search_engine\", \"search_engine\", \"search_engine\", \"search_engine\", \"search_engine\", \"search_engine_least\", \"search_engine_present\", \"search_engine_present\", \"second\", \"second\", \"second\", \"security_web_intelligence\", \"security_web_intelligence\", \"select\", \"select\", \"semantic\", \"semantic\", \"semantic\", \"semantic_web\", \"semantic_web\", \"semantic_web\", \"semantic_web\", \"sense\", \"sense\", \"server\", \"service\", \"service\", \"service\", \"service\", \"service\", \"service\", \"service\", \"service_unfair\", \"session\", \"session\", \"set\", \"set\", \"set\", \"set\", \"show\", \"show\", \"show\", \"show\", \"show\", \"show\", \"simple\", \"simple\", \"simple\", \"site\", \"site\", \"site\", \"small\", \"small\", \"social_economic\", \"society\", \"society\", \"soft_computing\", \"soft_computing\", \"software_engineering\", \"software_engineering\", \"software_engineering\", \"special_focus\", \"special_focus\", \"stage\", \"standard\", \"standard\", \"structure\", \"structure\", \"structure\", \"structure\", \"student\", \"student\", \"study\", \"study\", \"study\", \"study\", \"system\", \"system\", \"system\", \"system\", \"system\", \"system\", \"system\", \"system_foundation\", \"task\", \"task\", \"task\", \"task\", \"task\", \"technique\", \"technique\", \"technique\", \"technique\", \"technique\", \"technique\", \"technology\", \"technology\", \"technology\", \"technology\", \"technology\", \"technology\", \"technology\", \"technology_well\", \"today\", \"today\", \"tool\", \"tool\", \"tool\", \"tool\", \"tool\", \"topic\", \"topic\", \"topic\", \"track\", \"track\", \"trading_bias\", \"transaction\", \"transaction\", \"transaction\", \"two\", \"two\", \"two\", \"two\", \"two\", \"two\", \"two_main\", \"uncertainty\", \"uncertainty\", \"understanding\", \"understanding\", \"understanding\", \"unstructured_imprecise_deal\", \"us\", \"us\", \"useful\", \"useful\", \"useful\", \"useful\", \"user\", \"user\", \"user\", \"user\", \"user\", \"user\", \"user_profile\", \"user_profile\", \"usually\", \"variety\", \"variety\", \"various\", \"various\", \"various\", \"various\", \"various\", \"view\", \"view\", \"view\", \"view\", \"view\", \"viewpoint\", \"way\", \"way\", \"way\", \"way\", \"way\", \"web\", \"web\", \"web\", \"web\", \"web\", \"web\", \"web\", \"web_intelligence\", \"web_intelligence\", \"web_intelligence\", \"web_intelligence\", \"web_intelligence\", \"web_intelligence\", \"web_intelligence\", \"web_intelligence_consortium\", \"web_intelligence_consortium\", \"web_intelligence_consortium\", \"web_intelligence_future\", \"web_intelligence_paper_describe\", \"web_intelligence_paper_describe\", \"web_intelligence_wi\", \"web_intelligence_wi\", \"web_intelligence_wi\", \"web_intelligence_wi\", \"web_page\", \"web_page\", \"web_page\", \"web_page\", \"web_page\", \"wi\", \"wi\", \"wi\", \"word\", \"word\", \"word\", \"word\", \"work\", \"work\", \"work\", \"work\", \"work\", \"work\", \"world_wide_web\", \"world_wide_web\", \"world_wide_web\", \"world_wide_web\", \"world_wide_web\"]}, \"R\": 30, \"lambda.step\": 0.01, \"plot.opts\": {\"xlab\": \"PC1\", \"ylab\": \"PC2\"}, \"topic.order\": [7, 6, 2, 4, 1, 3, 5]};\n",
       "\n",
       "function LDAvis_load_lib(url, callback){\n",
       "  var s = document.createElement('script');\n",
       "  s.src = url;\n",
       "  s.async = true;\n",
       "  s.onreadystatechange = s.onload = callback;\n",
       "  s.onerror = function(){console.warn(\"failed to load library \" + url);};\n",
       "  document.getElementsByTagName(\"head\")[0].appendChild(s);\n",
       "}\n",
       "\n",
       "if(typeof(LDAvis) !== \"undefined\"){\n",
       "   // already loaded: just create the visualization\n",
       "   !function(LDAvis){\n",
       "       new LDAvis(\"#\" + \"ldavis_el103244734357448581659149\", ldavis_el103244734357448581659149_data);\n",
       "   }(LDAvis);\n",
       "}else if(typeof define === \"function\" && define.amd){\n",
       "   // require.js is available: use it to load d3/LDAvis\n",
       "   require.config({paths: {d3: \"https://cdnjs.cloudflare.com/ajax/libs/d3/3.5.5/d3.min\"}});\n",
       "   require([\"d3\"], function(d3){\n",
       "      window.d3 = d3;\n",
       "      LDAvis_load_lib(\"https://cdn.rawgit.com/bmabey/pyLDAvis/files/ldavis.v1.0.0.js\", function(){\n",
       "        new LDAvis(\"#\" + \"ldavis_el103244734357448581659149\", ldavis_el103244734357448581659149_data);\n",
       "      });\n",
       "    });\n",
       "}else{\n",
       "    // require.js not available: dynamically load d3 & LDAvis\n",
       "    LDAvis_load_lib(\"https://cdnjs.cloudflare.com/ajax/libs/d3/3.5.5/d3.min.js\", function(){\n",
       "         LDAvis_load_lib(\"https://cdn.rawgit.com/bmabey/pyLDAvis/files/ldavis.v1.0.0.js\", function(){\n",
       "                 new LDAvis(\"#\" + \"ldavis_el103244734357448581659149\", ldavis_el103244734357448581659149_data);\n",
       "            })\n",
       "         });\n",
       "}\n",
       "</script>"
      ],
      "text/plain": [
       "<IPython.core.display.HTML object>"
      ]
     },
     "execution_count": 38,
     "metadata": {},
     "output_type": "execute_result"
    }
   ],
   "source": [
    "# https://cran.r-project.org/web/packages/LDAvis/vignettes/details.pdf\n",
    "# Here a short legend to explain the vis:\n",
    "# size of bubble: proportional to the proportions of the topics across the N total tokens in the corpus\n",
    "# red bars: estimated number of times a given term was generated by a given topic\n",
    "# blue bars: overall frequency of each term in the corpus\n",
    "# -- Relevance of words is computed with a parameter lambda\n",
    "# -- Lambda optimal value ~0.6 (https://nlp.stanford.edu/events/illvi2014/papers/sievert-illvi2014.pdf)\n",
    "%matplotlib inline\n",
    "import pyLDAvis\n",
    "import pyLDAvis.gensim\n",
    "vis = pyLDAvis.gensim.prepare(topic_model=lda_model, corpus=corpus, dictionary=dictionary_LDA)\n",
    "pyLDAvis.enable_notebook()\n",
    "pyLDAvis.display(vis)"
   ]
  },
  {
   "cell_type": "code",
   "execution_count": 42,
   "metadata": {},
   "outputs": [],
   "source": [
    "pyLDAvis.save_html(vis, 'lda.html')"
   ]
  },
  {
   "cell_type": "code",
   "execution_count": null,
   "metadata": {},
   "outputs": [],
   "source": []
  }
 ],
 "metadata": {
  "kernelspec": {
   "display_name": "Python 3",
   "language": "python",
   "name": "python3"
  },
  "language_info": {
   "codemirror_mode": {
    "name": "ipython",
    "version": 3
   },
   "file_extension": ".py",
   "mimetype": "text/x-python",
   "name": "python",
   "nbconvert_exporter": "python",
   "pygments_lexer": "ipython3",
   "version": "3.8.1"
  }
 },
 "nbformat": 4,
 "nbformat_minor": 4
}
